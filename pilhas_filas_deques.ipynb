{
 "cells": [
  {
   "cell_type": "code",
   "execution_count": 1,
   "id": "attended-fossil",
   "metadata": {},
   "outputs": [],
   "source": [
    "import numpy as np"
   ]
  },
  {
   "cell_type": "markdown",
   "id": "infrared-spotlight",
   "metadata": {},
   "source": [
    "# Pilhas"
   ]
  },
  {
   "cell_type": "code",
   "execution_count": 2,
   "id": "exclusive-roller",
   "metadata": {},
   "outputs": [],
   "source": [
    "class Pilha:\n",
    "    \n",
    "    def __init__(self, capacidade):\n",
    "        self.__capacidade = capacidade\n",
    "        self.__topo = -1\n",
    "        # na pilha somente temos acesso ao topo, portanto o atributo valores vai ser privado\n",
    "        self.__valores = np.empty(self.__capacidade, dtype=int)\n",
    "        \n",
    "    # metodo privado, pois so vai ser acessado quando formos adicionar algo na pilha\n",
    "    # o usuario nao precisa ter acesso\n",
    "    def __pilha_cheia(self):\n",
    "        if self.__topo == self.__capacidade - 1:\n",
    "            return True\n",
    "        else:\n",
    "            return False\n",
    "    \n",
    "    def __pilha_vazia(self):\n",
    "        if self.__topo == -1:\n",
    "            return True\n",
    "        else:\n",
    "            return False\n",
    "        \n",
    "    def empilhar(self, valor):\n",
    "        if self.__pilha_cheia():\n",
    "            print('A pilha esta cheia')\n",
    "        else:\n",
    "            self.__topo += 1\n",
    "            self.__valores[self.__topo] = valor\n",
    "            \n",
    "    def desempilhar(self):\n",
    "        if self.__pilha_vazia():\n",
    "            print('A pilha esta vazia')\n",
    "        else:\n",
    "            self.__topo -= 1\n",
    "    \n",
    "    def ver_topo(self):\n",
    "        # se a pilha nao estiver vazia\n",
    "        if self.__topo != -1:\n",
    "            # retorna o valor que esta no topo\n",
    "            return self.__valores[self.__topo]\n",
    "        else:\n",
    "            return -1"
   ]
  },
  {
   "cell_type": "code",
   "execution_count": 3,
   "id": "gorgeous-badge",
   "metadata": {},
   "outputs": [],
   "source": [
    "pilha = Pilha(5)"
   ]
  },
  {
   "cell_type": "code",
   "execution_count": 4,
   "id": "pursuant-quilt",
   "metadata": {},
   "outputs": [
    {
     "data": {
      "text/plain": [
       "-1"
      ]
     },
     "execution_count": 4,
     "metadata": {},
     "output_type": "execute_result"
    }
   ],
   "source": [
    "pilha.ver_topo()"
   ]
  },
  {
   "cell_type": "code",
   "execution_count": 5,
   "id": "hindu-annotation",
   "metadata": {},
   "outputs": [
    {
     "data": {
      "text/plain": [
       "1"
      ]
     },
     "execution_count": 5,
     "metadata": {},
     "output_type": "execute_result"
    }
   ],
   "source": [
    "pilha.empilhar(1)\n",
    "pilha.ver_topo()"
   ]
  },
  {
   "cell_type": "code",
   "execution_count": 6,
   "id": "sitting-minneapolis",
   "metadata": {},
   "outputs": [],
   "source": [
    "pilha.empilhar(1)\n",
    "pilha.empilhar(2)\n",
    "pilha.empilhar(3)\n",
    "pilha.empilhar(4)"
   ]
  },
  {
   "cell_type": "code",
   "execution_count": 7,
   "id": "connected-puppy",
   "metadata": {},
   "outputs": [
    {
     "name": "stdout",
     "output_type": "stream",
     "text": [
      "A pilha esta cheia\n"
     ]
    }
   ],
   "source": [
    "pilha.empilhar(6)"
   ]
  },
  {
   "cell_type": "code",
   "execution_count": 8,
   "id": "after-thunder",
   "metadata": {},
   "outputs": [
    {
     "data": {
      "text/plain": [
       "4"
      ]
     },
     "execution_count": 8,
     "metadata": {},
     "output_type": "execute_result"
    }
   ],
   "source": [
    "pilha.ver_topo()"
   ]
  },
  {
   "cell_type": "code",
   "execution_count": 9,
   "id": "otherwise-finnish",
   "metadata": {},
   "outputs": [
    {
     "data": {
      "text/plain": [
       "3"
      ]
     },
     "execution_count": 9,
     "metadata": {},
     "output_type": "execute_result"
    }
   ],
   "source": [
    "pilha.desempilhar()\n",
    "pilha.ver_topo()"
   ]
  },
  {
   "cell_type": "code",
   "execution_count": 10,
   "id": "indirect-contributor",
   "metadata": {},
   "outputs": [
    {
     "data": {
      "text/plain": [
       "1"
      ]
     },
     "execution_count": 10,
     "metadata": {},
     "output_type": "execute_result"
    }
   ],
   "source": [
    "pilha.desempilhar()\n",
    "pilha.desempilhar()\n",
    "pilha.desempilhar()\n",
    "pilha.ver_topo()"
   ]
  },
  {
   "cell_type": "markdown",
   "id": "alternate-liechtenstein",
   "metadata": {},
   "source": [
    "### Validador de expressões com pilhas\n",
    "\n",
    "Verificar se parênteses, colchetes e chaves estão corretos."
   ]
  },
  {
   "cell_type": "code",
   "execution_count": 11,
   "id": "analyzed-marsh",
   "metadata": {},
   "outputs": [],
   "source": [
    "class PilhaChar:\n",
    "    \n",
    "    def __init__(self, capacidade):\n",
    "        self.capacidade = capacidade\n",
    "        self.topo = -1\n",
    "        # na pilha somente temos acesso ao topo, portanto o atributo valores vai ser privado\n",
    "        self.valores = np.chararray(self.capacidade, unicode=True)\n",
    "        \n",
    "    # metodo privado, pois so vai ser acessado quando formos adicionar algo na pilha\n",
    "    # o usuario nao precisa ter acesso\n",
    "    def __pilha_cheia(self):\n",
    "        if self.topo == self.capacidade - 1:\n",
    "            return True\n",
    "        else:\n",
    "            return False\n",
    "    \n",
    "    def pilha_vazia(self):\n",
    "        if self.topo == -1:\n",
    "            return True\n",
    "        else:\n",
    "            return False\n",
    "        \n",
    "    def empilhar(self, valor):\n",
    "        if self.__pilha_cheia():\n",
    "            print('A pilha esta cheia')\n",
    "        else:\n",
    "            self.topo += 1\n",
    "            self.valores[self.topo] = valor\n",
    "            \n",
    "    def desempilhar(self):\n",
    "        if self.pilha_vazia():\n",
    "            print('A pilha esta vazia')\n",
    "        else:\n",
    "            valor = self.valores[self.topo]\n",
    "            self.topo -= 1\n",
    "            return valor\n",
    "    \n",
    "    def ver_topo(self):\n",
    "        # se a pilha nao estiver vazia\n",
    "        if self.topo != -1:\n",
    "            # retorna o valor que esta no topo\n",
    "            return self.valores[self.topo]\n",
    "        else:\n",
    "            return -1"
   ]
  },
  {
   "cell_type": "code",
   "execution_count": 15,
   "id": "confident-township",
   "metadata": {},
   "outputs": [
    {
     "name": "stdout",
     "output_type": "stream",
     "text": [
      "Digite uma expressao: a[b]\n"
     ]
    }
   ],
   "source": [
    "expressao = str(input('Digite uma expressao: '))\n",
    "pilha2 = PilhaChar(len(expressao))\n",
    "\n",
    "for i in range(len(expressao)):\n",
    "    \n",
    "    ch = expressao[i]\n",
    "\n",
    "    if ch == '{' or ch == '[' or ch == '(':\n",
    "        pilha2.empilhar(ch)\n",
    "    \n",
    "    elif ch == '}' or ch == ']' or ch == ')':\n",
    "    \n",
    "        if not pilha2.pilha_vazia():\n",
    "            chx = str(pilha2.desempilhar())\n",
    "    \n",
    "            if (ch == '}' and chx != '{') or (ch == ']' and chx != '[') or (ch == ')' and chx != '('):\n",
    "                print('Erro: ', ch, ' na posição ', i)\n",
    "                break\n",
    "        \n",
    "        else:\n",
    "            print('Erro: ', ch, ' na posição ', i)\n",
    "        \n",
    "if not pilha2.pilha_vazia():\n",
    "    print('Erro!')"
   ]
  },
  {
   "cell_type": "markdown",
   "id": "respective-boards",
   "metadata": {},
   "source": [
    "# Filas"
   ]
  },
  {
   "cell_type": "code",
   "execution_count": 16,
   "id": "driven-gross",
   "metadata": {},
   "outputs": [],
   "source": [
    "class FilaCircular:\n",
    "    \n",
    "    def __init__(self, capacidade):\n",
    "        self.capacidade = capacidade\n",
    "        self.inicio = 0\n",
    "        self.final = -1\n",
    "        self.numero_elementos = 0\n",
    "        self.valores = np.empty(self.capacidade, dtype=int)\n",
    "        \n",
    "    def __fila_vazia(self):\n",
    "        return self.numero_elementos == 0\n",
    "    \n",
    "    def __fila_cheia(self):\n",
    "        return self.numero_elementos == self.capacidade\n",
    "    \n",
    "    def enfileirar(self, valor):\n",
    "        if self.__fila_cheia():\n",
    "            print('A fila esta cheia')\n",
    "            return\n",
    "        \n",
    "        # se o final da fila estiver no final do vetor, nos decrementamos para a posicao -1\n",
    "        # para que ele comece na posicao 0 novamente\n",
    "        if self.final == self.capacidade - 1:\n",
    "            self.final = -1\n",
    "        \n",
    "        # botando a setinha do final para andar uma \"casa\" e \n",
    "        # fazendo a \"casa\" do final receber o valor a ser enfileirado\n",
    "        self.final += 1\n",
    "        self.valores[self.final] = valor\n",
    "        self.numero_elementos += 1\n",
    "        \n",
    "    def desenfileirar(self):\n",
    "        if self.__fila_vazia():\n",
    "            print('A fila ja esta vazia')\n",
    "            return\n",
    "        \n",
    "        # sempre desenfileiramos o valor que esta no inicio da fila\n",
    "        temp = self.valores[self.inicio]\n",
    "        \n",
    "        # trocando a posicao inicial da fila\n",
    "        self.inicio += 1\n",
    "        \n",
    "        # se o inicio da fila estiver no final do vetor, o inicio volta para a posicao 0\n",
    "        if self.inicio == self.capacidade:\n",
    "            self.inicio = 0\n",
    "            \n",
    "        self.numero_elementos -= 1\n",
    "        \n",
    "        return temp\n",
    "    \n",
    "    def primeiro(self):\n",
    "        if self.__fila_vazia():\n",
    "            return -1\n",
    "        return self.valores[self.inicio]"
   ]
  },
  {
   "cell_type": "code",
   "execution_count": 17,
   "id": "finnish-vietnam",
   "metadata": {},
   "outputs": [],
   "source": [
    "fila = FilaCircular(5)"
   ]
  },
  {
   "cell_type": "code",
   "execution_count": 18,
   "id": "acquired-diagram",
   "metadata": {},
   "outputs": [
    {
     "data": {
      "text/plain": [
       "-1"
      ]
     },
     "execution_count": 18,
     "metadata": {},
     "output_type": "execute_result"
    }
   ],
   "source": [
    "fila.primeiro()"
   ]
  },
  {
   "cell_type": "markdown",
   "id": "turkish-excerpt",
   "metadata": {},
   "source": [
    "| 1 | _ | _ | _ | _ |"
   ]
  },
  {
   "cell_type": "code",
   "execution_count": 19,
   "id": "horizontal-collins",
   "metadata": {},
   "outputs": [
    {
     "data": {
      "text/plain": [
       "1"
      ]
     },
     "execution_count": 19,
     "metadata": {},
     "output_type": "execute_result"
    }
   ],
   "source": [
    "fila.enfileirar(1)\n",
    "fila.primeiro()"
   ]
  },
  {
   "cell_type": "markdown",
   "id": "loved-feedback",
   "metadata": {},
   "source": [
    "| 2 | 1 | _ | _ | _ |"
   ]
  },
  {
   "cell_type": "code",
   "execution_count": 20,
   "id": "compliant-projection",
   "metadata": {},
   "outputs": [
    {
     "data": {
      "text/plain": [
       "1"
      ]
     },
     "execution_count": 20,
     "metadata": {},
     "output_type": "execute_result"
    }
   ],
   "source": [
    "fila.enfileirar(2)\n",
    "fila.primeiro()"
   ]
  },
  {
   "cell_type": "markdown",
   "id": "olive-cleaners",
   "metadata": {},
   "source": [
    "| 5 | 4 | 3 | 2 | 1 |"
   ]
  },
  {
   "cell_type": "code",
   "execution_count": 21,
   "id": "loaded-moment",
   "metadata": {},
   "outputs": [],
   "source": [
    "fila.enfileirar(3)\n",
    "fila.enfileirar(4)\n",
    "fila.enfileirar(5)"
   ]
  },
  {
   "cell_type": "code",
   "execution_count": 22,
   "id": "graduate-leather",
   "metadata": {},
   "outputs": [
    {
     "name": "stdout",
     "output_type": "stream",
     "text": [
      "A fila esta cheia\n"
     ]
    }
   ],
   "source": [
    "fila.enfileirar(6)"
   ]
  },
  {
   "cell_type": "markdown",
   "id": "surprised-class",
   "metadata": {},
   "source": [
    "| 5 | 4 | 3 | _ | _ |"
   ]
  },
  {
   "cell_type": "code",
   "execution_count": 23,
   "id": "dress-august",
   "metadata": {},
   "outputs": [
    {
     "data": {
      "text/plain": [
       "3"
      ]
     },
     "execution_count": 23,
     "metadata": {},
     "output_type": "execute_result"
    }
   ],
   "source": [
    "fila.desenfileirar()\n",
    "fila.desenfileirar()\n",
    "fila.primeiro()"
   ]
  },
  {
   "cell_type": "markdown",
   "id": "hundred-discharge",
   "metadata": {},
   "source": [
    "| 7 | 6 | 5 | 4 | 3 |"
   ]
  },
  {
   "cell_type": "code",
   "execution_count": 24,
   "id": "determined-toyota",
   "metadata": {},
   "outputs": [
    {
     "data": {
      "text/plain": [
       "3"
      ]
     },
     "execution_count": 24,
     "metadata": {},
     "output_type": "execute_result"
    }
   ],
   "source": [
    "fila.enfileirar(6)\n",
    "fila.enfileirar(7)\n",
    "fila.primeiro()"
   ]
  },
  {
   "cell_type": "code",
   "execution_count": 25,
   "id": "saved-collins",
   "metadata": {},
   "outputs": [
    {
     "data": {
      "text/plain": [
       "array([6, 7, 3, 4, 5])"
      ]
     },
     "execution_count": 25,
     "metadata": {},
     "output_type": "execute_result"
    }
   ],
   "source": [
    "fila.valores"
   ]
  },
  {
   "cell_type": "code",
   "execution_count": 26,
   "id": "comparative-market",
   "metadata": {},
   "outputs": [
    {
     "data": {
      "text/plain": [
       "(2, 1)"
      ]
     },
     "execution_count": 26,
     "metadata": {},
     "output_type": "execute_result"
    }
   ],
   "source": [
    "fila.inicio, fila.final"
   ]
  },
  {
   "cell_type": "code",
   "execution_count": 27,
   "id": "attached-folder",
   "metadata": {},
   "outputs": [
    {
     "data": {
      "text/plain": [
       "7"
      ]
     },
     "execution_count": 27,
     "metadata": {},
     "output_type": "execute_result"
    }
   ],
   "source": [
    "fila.valores[fila.final]"
   ]
  },
  {
   "cell_type": "code",
   "execution_count": 28,
   "id": "affiliated-handling",
   "metadata": {},
   "outputs": [
    {
     "data": {
      "text/plain": [
       "3"
      ]
     },
     "execution_count": 28,
     "metadata": {},
     "output_type": "execute_result"
    }
   ],
   "source": [
    "fila.valores[fila.inicio]"
   ]
  },
  {
   "cell_type": "markdown",
   "id": "absent-version",
   "metadata": {},
   "source": [
    "# Filas de prioridade\n",
    "\n",
    "Igual a filas normais, porém os itens são ordenados de acordo com um valor-chave, de maneira que o item com a chave mais baixa/alta esteja sempre na frente. Dando prioridade para um determinado número de chave.\n",
    "\n",
    "Elementos de alta prioridade sempre são colocados no início da fila, de média prioridade no meio e de baixa prioridade no final."
   ]
  },
  {
   "cell_type": "code",
   "execution_count": 29,
   "id": "steady-floor",
   "metadata": {},
   "outputs": [],
   "source": [
    "class FilaPrioridade():\n",
    "    \n",
    "    def __init__(self, capacidade):\n",
    "        self.capacidade = capacidade\n",
    "        self.numero_elementos = 0\n",
    "        self.valores = np.empty(self.capacidade, dtype=int)\n",
    "        \n",
    "    def __fila_vazia(self):\n",
    "        return self.numero_elementos == 0\n",
    "    \n",
    "    def __fila_cheia(self):\n",
    "        return self.numero_elementos == self.capacidade\n",
    "    \n",
    "    def enfileirar(self, valor):\n",
    "        if self.__fila_cheia():\n",
    "            print('A fila esta cheia')\n",
    "            return\n",
    "        \n",
    "        # caso seja o primeiro numero da fila\n",
    "        if self.numero_elementos == 0:\n",
    "            self.valores[self.numero_elementos] = valor\n",
    "            self.numero_elementos += 1\n",
    "            \n",
    "        else: \n",
    "            x = self.numero_elementos - 1\n",
    "            \n",
    "            while x >= 0:\n",
    "                # se o valor a ser inserido for maior que os valores que estao no vetor\n",
    "                # fazer o remanejamento desses valores para uma casa a frente\n",
    "                if valor > self.valores[x]:\n",
    "                    self.valores[x + 1] = self.valores[x]\n",
    "                # se o valor a ser inserido nao for maior do que os que ja estao no vetor\n",
    "                # ele ja esta na posicao correta, entao sair do while\n",
    "                else:\n",
    "                    break\n",
    "                    \n",
    "                # decrementando a variavel de controle do while\n",
    "                x -= 1\n",
    "                    \n",
    "            self.valores[x + 1] = valor\n",
    "            self.numero_elementos += 1 \n",
    "            \n",
    "    def desenfileirar(self):\n",
    "        if self.__fila_vazia():\n",
    "            print('A fila esta vazia')\n",
    "            return\n",
    "        \n",
    "        valor_retirado = self.valores[self.numero_elementos - 1]\n",
    "        self.numero_elementos -= 1\n",
    "        \n",
    "        return valor_retirado\n",
    "              \n",
    "    def primeiro(self):\n",
    "        if self.__fila_vazia():\n",
    "            return -1\n",
    "        return self.valores[self.numero_elementos - 1]"
   ]
  },
  {
   "cell_type": "code",
   "execution_count": 30,
   "id": "parliamentary-canadian",
   "metadata": {},
   "outputs": [],
   "source": [
    "fila_prioridade = FilaPrioridade(5)"
   ]
  },
  {
   "cell_type": "code",
   "execution_count": 31,
   "id": "substantial-concentration",
   "metadata": {},
   "outputs": [
    {
     "data": {
      "text/plain": [
       "-1"
      ]
     },
     "execution_count": 31,
     "metadata": {},
     "output_type": "execute_result"
    }
   ],
   "source": [
    "fila_prioridade.primeiro()"
   ]
  },
  {
   "cell_type": "markdown",
   "id": "global-uzbekistan",
   "metadata": {},
   "source": [
    "| 30 | _ | _ | _ | _ |"
   ]
  },
  {
   "cell_type": "code",
   "execution_count": 32,
   "id": "stylish-auction",
   "metadata": {},
   "outputs": [
    {
     "data": {
      "text/plain": [
       "30"
      ]
     },
     "execution_count": 32,
     "metadata": {},
     "output_type": "execute_result"
    }
   ],
   "source": [
    "fila_prioridade.enfileirar(30)\n",
    "fila_prioridade.primeiro()"
   ]
  },
  {
   "cell_type": "markdown",
   "id": "introductory-kernel",
   "metadata": {},
   "source": [
    "| 50 | 30 | _ | _ | _ |"
   ]
  },
  {
   "cell_type": "code",
   "execution_count": 33,
   "id": "subjective-point",
   "metadata": {},
   "outputs": [
    {
     "data": {
      "text/plain": [
       "30"
      ]
     },
     "execution_count": 33,
     "metadata": {},
     "output_type": "execute_result"
    }
   ],
   "source": [
    "fila_prioridade.enfileirar(50)\n",
    "fila_prioridade.primeiro()"
   ]
  },
  {
   "cell_type": "markdown",
   "id": "earlier-scroll",
   "metadata": {},
   "source": [
    "| 50 | 30 | 10 | _ | _ |"
   ]
  },
  {
   "cell_type": "code",
   "execution_count": 34,
   "id": "greenhouse-graduate",
   "metadata": {},
   "outputs": [
    {
     "data": {
      "text/plain": [
       "10"
      ]
     },
     "execution_count": 34,
     "metadata": {},
     "output_type": "execute_result"
    }
   ],
   "source": [
    "fila_prioridade.enfileirar(10)\n",
    "fila_prioridade.primeiro()"
   ]
  },
  {
   "cell_type": "code",
   "execution_count": 35,
   "id": "regulation-graham",
   "metadata": {},
   "outputs": [
    {
     "data": {
      "text/plain": [
       "array([ 50,  30,  10, 482,   1])"
      ]
     },
     "execution_count": 35,
     "metadata": {},
     "output_type": "execute_result"
    }
   ],
   "source": [
    "fila_prioridade.valores"
   ]
  },
  {
   "cell_type": "markdown",
   "id": "decreased-prize",
   "metadata": {},
   "source": [
    "| 50 | 40 | 30 | 10 | _ |"
   ]
  },
  {
   "cell_type": "code",
   "execution_count": 36,
   "id": "linear-period",
   "metadata": {},
   "outputs": [
    {
     "data": {
      "text/plain": [
       "10"
      ]
     },
     "execution_count": 36,
     "metadata": {},
     "output_type": "execute_result"
    }
   ],
   "source": [
    "fila_prioridade.enfileirar(40)\n",
    "fila_prioridade.primeiro()"
   ]
  },
  {
   "cell_type": "code",
   "execution_count": 37,
   "id": "headed-canal",
   "metadata": {},
   "outputs": [
    {
     "data": {
      "text/plain": [
       "array([50, 40, 30, 10,  1])"
      ]
     },
     "execution_count": 37,
     "metadata": {},
     "output_type": "execute_result"
    }
   ],
   "source": [
    "fila_prioridade.valores"
   ]
  },
  {
   "cell_type": "markdown",
   "id": "forty-commission",
   "metadata": {},
   "source": [
    "| 50 | 40 | 30 | 20 | 10 |"
   ]
  },
  {
   "cell_type": "code",
   "execution_count": 38,
   "id": "acute-throw",
   "metadata": {},
   "outputs": [
    {
     "data": {
      "text/plain": [
       "10"
      ]
     },
     "execution_count": 38,
     "metadata": {},
     "output_type": "execute_result"
    }
   ],
   "source": [
    "fila_prioridade.enfileirar(20)\n",
    "fila_prioridade.primeiro()"
   ]
  },
  {
   "cell_type": "code",
   "execution_count": 39,
   "id": "surface-hierarchy",
   "metadata": {},
   "outputs": [
    {
     "data": {
      "text/plain": [
       "array([50, 40, 30, 20, 10])"
      ]
     },
     "execution_count": 39,
     "metadata": {},
     "output_type": "execute_result"
    }
   ],
   "source": [
    "fila_prioridade.valores"
   ]
  },
  {
   "cell_type": "code",
   "execution_count": 40,
   "id": "driven-slovak",
   "metadata": {},
   "outputs": [
    {
     "name": "stdout",
     "output_type": "stream",
     "text": [
      "A fila esta cheia\n"
     ]
    }
   ],
   "source": [
    "fila_prioridade.enfileirar(2)"
   ]
  },
  {
   "cell_type": "code",
   "execution_count": 41,
   "id": "danish-banking",
   "metadata": {},
   "outputs": [
    {
     "data": {
      "text/plain": [
       "20"
      ]
     },
     "execution_count": 41,
     "metadata": {},
     "output_type": "execute_result"
    }
   ],
   "source": [
    "fila_prioridade.desenfileirar()\n",
    "fila_prioridade.primeiro()"
   ]
  },
  {
   "cell_type": "code",
   "execution_count": 42,
   "id": "iraqi-mailing",
   "metadata": {},
   "outputs": [
    {
     "data": {
      "text/plain": [
       "30"
      ]
     },
     "execution_count": 42,
     "metadata": {},
     "output_type": "execute_result"
    }
   ],
   "source": [
    "fila_prioridade.desenfileirar()\n",
    "fila_prioridade.primeiro()"
   ]
  },
  {
   "cell_type": "code",
   "execution_count": 43,
   "id": "blank-spray",
   "metadata": {},
   "outputs": [
    {
     "data": {
      "text/plain": [
       "40"
      ]
     },
     "execution_count": 43,
     "metadata": {},
     "output_type": "execute_result"
    }
   ],
   "source": [
    "fila_prioridade.desenfileirar()\n",
    "fila_prioridade.primeiro()"
   ]
  },
  {
   "cell_type": "code",
   "execution_count": 44,
   "id": "mental-outside",
   "metadata": {},
   "outputs": [
    {
     "data": {
      "text/plain": [
       "array([50, 40, 30, 20, 10])"
      ]
     },
     "execution_count": 44,
     "metadata": {},
     "output_type": "execute_result"
    }
   ],
   "source": [
    "fila_prioridade.valores"
   ]
  },
  {
   "cell_type": "code",
   "execution_count": 45,
   "id": "cultural-wheel",
   "metadata": {},
   "outputs": [
    {
     "data": {
      "text/plain": [
       "5"
      ]
     },
     "execution_count": 45,
     "metadata": {},
     "output_type": "execute_result"
    }
   ],
   "source": [
    "fila_prioridade.enfileirar(5)\n",
    "fila_prioridade.primeiro()"
   ]
  },
  {
   "cell_type": "code",
   "execution_count": 46,
   "id": "stuffed-greece",
   "metadata": {},
   "outputs": [
    {
     "data": {
      "text/plain": [
       "array([50, 40,  5, 20, 10])"
      ]
     },
     "execution_count": 46,
     "metadata": {},
     "output_type": "execute_result"
    }
   ],
   "source": [
    "fila_prioridade.valores"
   ]
  },
  {
   "cell_type": "markdown",
   "id": "legal-freeware",
   "metadata": {},
   "source": [
    "# Deques"
   ]
  },
  {
   "cell_type": "code",
   "execution_count": 5,
   "id": "lesser-space",
   "metadata": {},
   "outputs": [],
   "source": [
    "class Deque:\n",
    "    \n",
    "    def __init__(self, capacidade):\n",
    "        self.capacidade = capacidade\n",
    "        self.inicio = -1\n",
    "        self.final = 0\n",
    "        self.numero_elementos = 0\n",
    "        self.valores = np.empty(self.capacidade, dtype=int)\n",
    "        \n",
    "    def __deque_cheio(self):\n",
    "        # quando nao tem mais nenhum indice disponivel ou quando o inicio for maior que o final (isso quer dizer\n",
    "        # que o deque nao tem mais posicoes para incluirmos)\n",
    "        return (self.inicio == 0 and self.final == self.capacidade - 1) or (self.inicio == self.final + 1)\n",
    "        \n",
    "    def __deque_vazio(self):\n",
    "        return self.inicio == -1\n",
    "        \n",
    "    def insere_inicio(self, valor):\n",
    "        \n",
    "        if self.__deque_cheio():\n",
    "            print('O deque esta cheio')\n",
    "            return\n",
    "        \n",
    "        # se estiver vazio\n",
    "        if self.inicio == -1:\n",
    "            self.inicio = 0\n",
    "            self.final = 0\n",
    "        \n",
    "        # se inicio estiver na primeira posicao\n",
    "        elif self.inicio == 0:\n",
    "            self.inicio = self.capacidade - 1\n",
    "        else:\n",
    "            self.inicio -= 1\n",
    "        \n",
    "        # colocando valor dentro do deque\n",
    "        self.valores[self.inicio] = valor\n",
    "        \n",
    "    def insere_final(self, valor):\n",
    "        \n",
    "        if self.__deque_cheio():\n",
    "            print('O deque esta cheio')\n",
    "            return\n",
    "        \n",
    "        # se estiver vazio\n",
    "        if self.inicio == -1:\n",
    "            self.inicio = 0\n",
    "            self.final = 0\n",
    "        \n",
    "        # se o final estiver na ultima posicao\n",
    "        elif self.final == self.capacidade - 1:\n",
    "            self.final = 0\n",
    "        else:\n",
    "            self.final += 1\n",
    "            \n",
    "        # colocando valor dentro do deque\n",
    "        self.valores[self.final] = valor\n",
    "        \n",
    "    def excluir_inicio(self):\n",
    "        \n",
    "        if self.__deque_vazio():\n",
    "            print('O deque esta vazio')\n",
    "            return\n",
    "        \n",
    "        # se possuir somente um elemento no deque\n",
    "        if self.inicio == self.final:\n",
    "            self.inicio = -1\n",
    "            self.final = -1\n",
    "        # se possuir mais de um elemento no deque\n",
    "        else:\n",
    "            # se o inicio estiver no final do deque, volta para a posicao inicial\n",
    "            if self.inicio == self.capacidade - 1:\n",
    "                self.inicio = 0\n",
    "            # se o inicio nao estiver no final do deque, ele eh incrementado\n",
    "            else:\n",
    "                self.inicio += 1\n",
    "        \n",
    "    def excluir_final(self):\n",
    "        \n",
    "        if self.__deque_vazio():\n",
    "            print('O deque esta vazio')\n",
    "            return\n",
    "        \n",
    "        # se possuir somente um elemento no deque\n",
    "        if self.inicio == self.final:\n",
    "            self.inicio = -1\n",
    "            self.final = -1\n",
    "        # se o inicio estiver na posicao inicial do deque\n",
    "        elif self.inicio == 0:\n",
    "            self.final = self.capacidade - 1\n",
    "        # se o inicio estiver em qualquer outra posicao do deque\n",
    "        else:\n",
    "            self.final -= 1\n",
    "           \n",
    "    def get_inicio(self):\n",
    "        \n",
    "        if self.__deque_vazio():\n",
    "            print('O deque esta vazio')\n",
    "            return\n",
    "        \n",
    "        print('O valor do inicio eh o: ', self.valores[self.inicio] , 'que esta na posicao: ', self.inicio)\n",
    "        \n",
    "    def get_final(self):\n",
    "        \n",
    "        if self.__deque_vazio() or self.final < 0:\n",
    "            print('O deque esta vazio')\n",
    "            return\n",
    "        \n",
    "        print('O valor do final eh o: ', self.valores[self.final] , 'que esta na posicao: ', self.final)"
   ]
  },
  {
   "cell_type": "code",
   "execution_count": 6,
   "id": "consecutive-ethics",
   "metadata": {},
   "outputs": [],
   "source": [
    "deque = Deque(5)"
   ]
  },
  {
   "cell_type": "code",
   "execution_count": 7,
   "id": "understood-convenience",
   "metadata": {},
   "outputs": [
    {
     "name": "stdout",
     "output_type": "stream",
     "text": [
      "O valor do inicio eh o:  5 que esta na posicao:  0\n",
      "O valor do final eh o:  5 que esta na posicao:  0\n"
     ]
    },
    {
     "data": {
      "text/plain": [
       "(None, None)"
      ]
     },
     "execution_count": 7,
     "metadata": {},
     "output_type": "execute_result"
    }
   ],
   "source": [
    "deque.insere_final(5)\n",
    "\n",
    "deque.get_inicio(), deque.get_final()"
   ]
  },
  {
   "cell_type": "markdown",
   "id": "generous-leonard",
   "metadata": {},
   "source": [
    "| 5 | 10 | _ | _ | _ |"
   ]
  },
  {
   "cell_type": "code",
   "execution_count": 8,
   "id": "changing-welding",
   "metadata": {},
   "outputs": [
    {
     "name": "stdout",
     "output_type": "stream",
     "text": [
      "O valor do inicio eh o:  5 que esta na posicao:  0\n",
      "O valor do final eh o:  10 que esta na posicao:  1\n"
     ]
    },
    {
     "data": {
      "text/plain": [
       "(None, None)"
      ]
     },
     "execution_count": 8,
     "metadata": {},
     "output_type": "execute_result"
    }
   ],
   "source": [
    "deque.insere_final(10)\n",
    "\n",
    "deque.get_inicio(), deque.get_final()"
   ]
  },
  {
   "cell_type": "markdown",
   "id": "temporal-sperm",
   "metadata": {},
   "source": [
    "| 3 | 5 | 10 | _ | _ |"
   ]
  },
  {
   "cell_type": "code",
   "execution_count": 9,
   "id": "stuck-memorial",
   "metadata": {},
   "outputs": [
    {
     "name": "stdout",
     "output_type": "stream",
     "text": [
      "O valor do inicio eh o:  3 que esta na posicao:  4\n",
      "O valor do final eh o:  10 que esta na posicao:  1\n"
     ]
    },
    {
     "data": {
      "text/plain": [
       "(None, None)"
      ]
     },
     "execution_count": 9,
     "metadata": {},
     "output_type": "execute_result"
    }
   ],
   "source": [
    "deque.insere_inicio(3)\n",
    "\n",
    "deque.get_inicio(), deque.get_final()"
   ]
  },
  {
   "cell_type": "markdown",
   "id": "enormous-marina",
   "metadata": {},
   "source": [
    "| 2 | 3 | 5 | 10 | 11 |"
   ]
  },
  {
   "cell_type": "code",
   "execution_count": 10,
   "id": "massive-escape",
   "metadata": {},
   "outputs": [
    {
     "name": "stdout",
     "output_type": "stream",
     "text": [
      "O valor do inicio eh o:  2 que esta na posicao:  3\n",
      "O valor do final eh o:  11 que esta na posicao:  2\n"
     ]
    },
    {
     "data": {
      "text/plain": [
       "(None, None)"
      ]
     },
     "execution_count": 10,
     "metadata": {},
     "output_type": "execute_result"
    }
   ],
   "source": [
    "deque.insere_inicio(2)\n",
    "deque.insere_final(11)\n",
    "\n",
    "deque.get_inicio(), deque.get_final()"
   ]
  },
  {
   "cell_type": "markdown",
   "id": "quick-palace",
   "metadata": {},
   "source": [
    "| 3 | 5 | 10 | _ | _ |"
   ]
  },
  {
   "cell_type": "code",
   "execution_count": 11,
   "id": "developing-shadow",
   "metadata": {},
   "outputs": [
    {
     "name": "stdout",
     "output_type": "stream",
     "text": [
      "O valor do inicio eh o:  3 que esta na posicao:  4\n",
      "O valor do final eh o:  10 que esta na posicao:  1\n"
     ]
    },
    {
     "data": {
      "text/plain": [
       "(None, None)"
      ]
     },
     "execution_count": 11,
     "metadata": {},
     "output_type": "execute_result"
    }
   ],
   "source": [
    "deque.excluir_inicio()\n",
    "deque.excluir_final()\n",
    "\n",
    "deque.get_inicio(), deque.get_final()"
   ]
  },
  {
   "cell_type": "code",
   "execution_count": 12,
   "id": "expensive-booking",
   "metadata": {},
   "outputs": [
    {
     "data": {
      "text/plain": [
       "array([ 5, 10, 11,  2,  3])"
      ]
     },
     "execution_count": 12,
     "metadata": {},
     "output_type": "execute_result"
    }
   ],
   "source": [
    "deque.valores"
   ]
  },
  {
   "cell_type": "code",
   "execution_count": 13,
   "id": "undefined-strength",
   "metadata": {},
   "outputs": [
    {
     "data": {
      "text/plain": [
       "4"
      ]
     },
     "execution_count": 13,
     "metadata": {},
     "output_type": "execute_result"
    }
   ],
   "source": [
    "deque.inicio"
   ]
  },
  {
   "cell_type": "code",
   "execution_count": 14,
   "id": "patent-cycle",
   "metadata": {},
   "outputs": [
    {
     "data": {
      "text/plain": [
       "1"
      ]
     },
     "execution_count": 14,
     "metadata": {},
     "output_type": "execute_result"
    }
   ],
   "source": [
    "deque.final"
   ]
  }
 ],
 "metadata": {
  "kernelspec": {
   "display_name": "Python 3",
   "language": "python",
   "name": "python3"
  },
  "language_info": {
   "codemirror_mode": {
    "name": "ipython",
    "version": 3
   },
   "file_extension": ".py",
   "mimetype": "text/x-python",
   "name": "python",
   "nbconvert_exporter": "python",
   "pygments_lexer": "ipython3",
   "version": "3.8.6"
  }
 },
 "nbformat": 4,
 "nbformat_minor": 5
}
