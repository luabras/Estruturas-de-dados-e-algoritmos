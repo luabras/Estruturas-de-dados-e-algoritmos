{
 "cells": [
  {
   "cell_type": "markdown",
   "id": "medical-sessions",
   "metadata": {},
   "source": [
    "Combina vantagens de vetores ordenados com as vantagens de listas encadeadas.\n",
    "\n",
    "Possui busca, inserção e deleção rápidas.\n",
    "\n",
    "Possui no máximo dois filhos, um a esquerda e outro a direita.\n",
    "\n",
    "O filho a esquerda de um nó, precisa ter um valor menor ou igual a do próprio nó. O filho a direita precisa ter um valor maior ou igual."
   ]
  },
  {
   "cell_type": "code",
   "execution_count": 1,
   "id": "square-verification",
   "metadata": {},
   "outputs": [],
   "source": [
    "class No:\n",
    "    \n",
    "    def __init__(self, valor):\n",
    "        self.valor = valor\n",
    "        # referencia para o no a esquerda\n",
    "        self.esquerda = None\n",
    "        # referencia para o no a direita\n",
    "        self.direita = None\n",
    "        \n",
    "    def mostra_no(self):\n",
    "        print(self.valor)"
   ]
  },
  {
   "cell_type": "code",
   "execution_count": 2,
   "id": "danish-madonna",
   "metadata": {},
   "outputs": [],
   "source": [
    "class ArvoreBinariaBusca:\n",
    "    \n",
    "    def __init__(self):\n",
    "        self.raiz = None\n",
    "        self.ligacoes = []\n",
    "    \n",
    "    # O(log n) para caso medio e O(n) no pior caso\n",
    "    def inserir(self, valor):\n",
    "        \n",
    "        # criando novo 'no' a ser inserido\n",
    "        novo = No(valor)\n",
    "        \n",
    "        # se a arvore estiver vazia, o novo 'no' sera a raiz\n",
    "        if self.raiz == None:\n",
    "            self.raiz = novo\n",
    "            \n",
    "        else:\n",
    "            # comecando a percorrer a arvore pela raiz\n",
    "            atual = self.raiz\n",
    "            \n",
    "            # o loop para quando a posicao a ser inserida eh encontrada\n",
    "            while True:\n",
    "                pai = atual\n",
    "                \n",
    "                # se o valor a ser inserido for menor que o atual\n",
    "                if valor < atual.valor:\n",
    "                    # vamos para a esquerda\n",
    "                    atual = atual.esquerda\n",
    "                    \n",
    "                    # se a esquerda nao tiver mais nenhum no, entao encontramos o local de insercao\n",
    "                    if atual == None:\n",
    "                        pai.esquerda = novo\n",
    "                        self.ligacoes.append(str(pai.valor) + '->' + str(novo.valor))\n",
    "                        return\n",
    "                    \n",
    "                # se o valor a ser inserido for maior que o atual\n",
    "                else:\n",
    "                    # vamos para a direita\n",
    "                    atual = atual.direita\n",
    "                    \n",
    "                    # se a direita nao tiver mais nenhum no, entao encontramos o local de insercao\n",
    "                    if atual == None:\n",
    "                        pai.direita = novo\n",
    "                        self.ligacoes.append(str(pai.valor) + '->' + str(novo.valor))\n",
    "                        return\n",
    "    \n",
    "    # O(log n) para caso medio e O(n) no pior caso\n",
    "    def pesquisar(self, valor):\n",
    "        \n",
    "        # comecando a percorrer a arvore pela raiz\n",
    "        atual = self.raiz\n",
    "        \n",
    "        # enquanto o valor atual for diferente do pesquisado\n",
    "        while atual.valor != valor:\n",
    "            \n",
    "            if valor < atual.valor:\n",
    "                atual = atual.esquerda   \n",
    "            else:\n",
    "                atual = atual.direita\n",
    "                \n",
    "            # se o valor nao estiver na arvore\n",
    "            if atual == None:\n",
    "                print('Valor nao encontrado')\n",
    "                return\n",
    "            \n",
    "        return atual\n",
    "    \n",
    "    # raiz -> esquerda -> direita\n",
    "    def pre_ordem(self, no):        \n",
    "        if no != None:\n",
    "            print(no.valor)\n",
    "            self.pre_ordem(no.esquerda)\n",
    "            self.pre_ordem(no.direita)\n",
    "    \n",
    "    # esquerda -> raiz -> direita\n",
    "    def em_ordem(self, no):\n",
    "        if no != None:\n",
    "            self.em_ordem(no.esquerda)\n",
    "            print(no.valor)\n",
    "            self.em_ordem(no.direita)\n",
    "    \n",
    "    # esquerda -> direita -> raiz\n",
    "    def pos_ordem(self, no):\n",
    "        if no != None:\n",
    "            self.pos_ordem(no.esquerda)\n",
    "            self.pos_ordem(no.direita)\n",
    "            print(no.valor)\n",
    "    \n",
    "    # sucessor de um no, eh o seu no a direita com o valor mais proximo do seu\n",
    "    def get_sucessor(self, no):\n",
    "        \n",
    "        pai_sucessor = no\n",
    "        sucessor = no\n",
    "        atual = no.direita\n",
    "        \n",
    "        while atual != None:\n",
    "            \n",
    "            pai_sucessor = sucessor\n",
    "            sucessor = atual\n",
    "            atual = atual.esquerda\n",
    "            \n",
    "        if sucessor != no.direita:\n",
    "            \n",
    "            pai_sucessor.esquerda = sucessor.direita\n",
    "            sucessor.direita = no.direita\n",
    "            \n",
    "        return sucessor\n",
    "            \n",
    "    def excluir(self, valor):\n",
    "        \n",
    "        if self.raiz == None:\n",
    "            print('A arvore esta vazia')\n",
    "            return\n",
    "        \n",
    "        atual = self.raiz\n",
    "        pai = self.raiz\n",
    "        \n",
    "        \n",
    "        # ------------------- Pesquisando o valor a ser excluido ------------------- #\n",
    "        \n",
    "        # variavel pra ter controle se o 'no' esta na esquerda (eh esquerda?)\n",
    "        e_esquerda = True\n",
    "        \n",
    "        # enquanto o valor atual for diferente do que buscamos excluir\n",
    "        while atual.valor != valor:\n",
    "            \n",
    "            pai = atual\n",
    "            \n",
    "            # se o valor a ser excluido for menor que o valor do 'no' atual, \n",
    "            # entao ele esta para a esquerda\n",
    "            if valor < atual.valor:\n",
    "                e_esquerda = True\n",
    "                atual = atual.esquerda\n",
    "                \n",
    "            # se nao, ele esta para a direita    \n",
    "            else:\n",
    "                e_esquerda = False\n",
    "                atual = atual.direita\n",
    "                \n",
    "            # se o elemento a ser excluido nao existe   \n",
    "            if atual == None:\n",
    "                return False\n",
    "            \n",
    "        \n",
    "        # ------------------------ Se o valor for uma folha ------------------------ #\n",
    "        \n",
    "        # verificando se as referencias de 'nos' para a esquerda e direita\n",
    "        # do elemento atual existem. se elas nao existem, eh pq o atual eh uma folha\n",
    "        if atual.esquerda == None and atual.direita == None:\n",
    "            # se for a raiz, a arvore eh apagada\n",
    "            if atual == self.raiz:\n",
    "                self.raiz = None\n",
    "                \n",
    "            # se ele esta na parte esquerda da arvore\n",
    "            elif e_esquerda == True:\n",
    "                \n",
    "                self.ligacoes.remove(str(pai.valor) + '->' + str(atual.valor))\n",
    "                pai.esquerda = None\n",
    "                \n",
    "            # se ele esta na parte direita da arvore    \n",
    "            else:\n",
    "                \n",
    "                self.ligacoes.remove(str(pai.valor) + '->' + str(atual.valor))\n",
    "                pai.direita = None\n",
    "                \n",
    "        \n",
    "        # ------------- Se o valor tiver apenas um filho para a esquerda ------------- #\n",
    "        \n",
    "        elif atual.direita == None:\n",
    "            \n",
    "            self.ligacoes.remove(str(pai.valor) + '->' + str(atual.valor))\n",
    "            self.ligacoes.remove(str(atual.valor) + '->' + str(atual.esquerda.valor))\n",
    "            \n",
    "            # se o valor a ser apagado for a raiz, o unico filho vira a nova raiz\n",
    "            if atual == self.raiz:\n",
    "                self.raiz = atual.esquerda\n",
    "                \n",
    "                self.ligacoes.append(str(raiz.valor) + '->' + str(atual.esquerda.valor))\n",
    "             \n",
    "            # se ele esta na parte esquerda da arvore, o pai do valor vai apontar para\n",
    "            # o unico filho do valor a ser apagado\n",
    "            elif e_esquerda == True:\n",
    "                pai.esquerda = atual.esquerda\n",
    "                \n",
    "                self.ligacoes.append(str(pai.valor) + '->' + str(atual.esquerda.valor))\n",
    "                \n",
    "            else:\n",
    "                pai.direita = atual.esquerda\n",
    "                \n",
    "                self.ligacoes.append(str(pai.valor) + '->' + str(atual.esquerda.valor))\n",
    "                \n",
    "        \n",
    "        # ------------- Se o valor tiver apenas um filho para a direita ------------- #\n",
    "        \n",
    "        elif atual.esquerda == None:\n",
    "            \n",
    "            self.ligacoes.remove(str(pai.valor) + '->' + str(atual.valor))\n",
    "            self.ligacoes.remove(str(atual.valor) + '->' + str(atual.direita.valor))\n",
    "\n",
    "            # se o valor a ser apagado for a raiz, o unico filho vira a nova raiz\n",
    "            if atual == self.raiz:\n",
    "                self.raiz = atual.direita\n",
    "                \n",
    "                self.ligacoes.append(str(raiz.valor) + '->' + str(atual.direita.valor))\n",
    "            \n",
    "            # se ele esta na parte esquerda da arvore, o pai do valor vai apontar para\n",
    "            # o unico filho do valor a ser apagado\n",
    "            elif e_esquerda == True:\n",
    "                pai.esquerda = atual.direita\n",
    "                \n",
    "                self.ligacoes.append(str(pai.valor) + '->' + str(atual.direita.valor))\n",
    "                        \n",
    "            else:\n",
    "                pai.direita = atual.direita\n",
    "                \n",
    "                self.ligacoes.append(str(pai.valor) + '->' + str(atual.direita.valor))\n",
    "                \n",
    "        \n",
    "        # ----------------------- Se o valor tiver dois filhos ----------------------- #\n",
    "        \n",
    "        else:\n",
    "            \n",
    "            sucessor = self.get_sucessor(atual)\n",
    "            \n",
    "            self.ligacoes.remove(str(pai.valor) + '->' + str(atual.valor))\n",
    "            self.ligacoes.remove(str(atual.valor) + '->' + str(atual.esquerda.valor))\n",
    "            self.ligacoes.remove(str(atual.valor) + '->' + str(atual.direita.valor))\n",
    "           \n",
    "            # se o valor a ser apagado for a raiz, ela vai receber o seu sucessor\n",
    "            if atual == self.raiz:\n",
    "                self.raiz = sucessor\n",
    "                \n",
    "                self.ligacoes.append(str(raiz.valor) + '->' + str(sucessor.valor))\n",
    "                \n",
    "            # se o valor a ser apagado estiver na esquerda, o seu pai vai apontar pro seu sucessor    \n",
    "            elif e_esquerda == True:\n",
    "                pai.esquerda = sucessor\n",
    "                \n",
    "                self.ligacoes.append(str(pai.valor) + '->' + str(sucessor.valor))   \n",
    "                \n",
    "            # se o valor a ser apagado estiver na direita, o seu pai vai apontar pro seu sucessor     \n",
    "            else:\n",
    "                pai.direita = sucessor\n",
    "                \n",
    "                self.ligacoes.append(str(pai.valor) + '->' + str(sucessor.valor))                          \n",
    "                \n",
    "            self.ligacoes.append(str(sucessor.valor) + '->' + str(atual.esquerda.valor))\n",
    "            self.ligacoes.append(str(sucessor.valor) + '->' + str(atual.direita.valor))\n",
    "            \n",
    "            # fazendo os remanejamentos pro sucessor apontar pros valores corretos\n",
    "            sucessor.esquerda = atual.esquerda\n",
    "         \n",
    "        # retornando true se conseguir excluir o no\n",
    "        return True"
   ]
  },
  {
   "cell_type": "code",
   "execution_count": 3,
   "id": "animal-marking",
   "metadata": {},
   "outputs": [],
   "source": [
    "arvore = ArvoreBinariaBusca()\n",
    "\n",
    "arvore.inserir(53)\n",
    "arvore.inserir(30)\n",
    "arvore.inserir(14)\n",
    "arvore.inserir(39)\n",
    "arvore.inserir(9)\n",
    "arvore.inserir(23)\n",
    "arvore.inserir(34)\n",
    "arvore.inserir(49)\n",
    "arvore.inserir(72)\n",
    "arvore.inserir(61)\n",
    "arvore.inserir(84)\n",
    "arvore.inserir(79)"
   ]
  },
  {
   "cell_type": "code",
   "execution_count": 4,
   "id": "guided-teaching",
   "metadata": {},
   "outputs": [
    {
     "data": {
      "text/plain": [
       "30"
      ]
     },
     "execution_count": 4,
     "metadata": {},
     "output_type": "execute_result"
    }
   ],
   "source": [
    "arvore.raiz.esquerda.valor"
   ]
  },
  {
   "cell_type": "code",
   "execution_count": 5,
   "id": "permanent-familiar",
   "metadata": {},
   "outputs": [
    {
     "data": {
      "text/plain": [
       "72"
      ]
     },
     "execution_count": 5,
     "metadata": {},
     "output_type": "execute_result"
    }
   ],
   "source": [
    "arvore.raiz.direita.valor"
   ]
  },
  {
   "cell_type": "code",
   "execution_count": 6,
   "id": "swedish-model",
   "metadata": {},
   "outputs": [
    {
     "data": {
      "text/plain": [
       "['53->30',\n",
       " '30->14',\n",
       " '30->39',\n",
       " '14->9',\n",
       " '14->23',\n",
       " '39->34',\n",
       " '39->49',\n",
       " '53->72',\n",
       " '72->61',\n",
       " '72->84',\n",
       " '84->79']"
      ]
     },
     "execution_count": 6,
     "metadata": {},
     "output_type": "execute_result"
    }
   ],
   "source": [
    "arvore.ligacoes"
   ]
  },
  {
   "cell_type": "code",
   "execution_count": 7,
   "id": "exotic-enforcement",
   "metadata": {},
   "outputs": [
    {
     "data": {
      "text/plain": [
       "<__main__.No at 0x1eb686e9430>"
      ]
     },
     "execution_count": 7,
     "metadata": {},
     "output_type": "execute_result"
    }
   ],
   "source": [
    "arvore.pesquisar(39)"
   ]
  },
  {
   "cell_type": "code",
   "execution_count": 8,
   "id": "outdoor-diabetes",
   "metadata": {},
   "outputs": [
    {
     "name": "stdout",
     "output_type": "stream",
     "text": [
      "53\n",
      "30\n",
      "14\n",
      "9\n",
      "23\n",
      "39\n",
      "34\n",
      "49\n",
      "72\n",
      "61\n",
      "84\n",
      "79\n"
     ]
    }
   ],
   "source": [
    "arvore.pre_ordem(arvore.raiz)"
   ]
  },
  {
   "cell_type": "code",
   "execution_count": 9,
   "id": "responsible-response",
   "metadata": {},
   "outputs": [
    {
     "name": "stdout",
     "output_type": "stream",
     "text": [
      "9\n",
      "14\n",
      "23\n",
      "30\n",
      "34\n",
      "39\n",
      "49\n",
      "53\n",
      "61\n",
      "72\n",
      "79\n",
      "84\n"
     ]
    }
   ],
   "source": [
    "arvore.em_ordem(arvore.raiz)"
   ]
  },
  {
   "cell_type": "code",
   "execution_count": 10,
   "id": "sufficient-category",
   "metadata": {},
   "outputs": [
    {
     "name": "stdout",
     "output_type": "stream",
     "text": [
      "9\n",
      "23\n",
      "14\n",
      "34\n",
      "49\n",
      "39\n",
      "30\n",
      "61\n",
      "79\n",
      "84\n",
      "72\n",
      "53\n"
     ]
    }
   ],
   "source": [
    "arvore.pos_ordem(arvore.raiz)"
   ]
  },
  {
   "cell_type": "code",
   "execution_count": 11,
   "id": "spiritual-carter",
   "metadata": {},
   "outputs": [
    {
     "data": {
      "text/plain": [
       "['53->30',\n",
       " '30->14',\n",
       " '30->39',\n",
       " '14->9',\n",
       " '14->23',\n",
       " '39->34',\n",
       " '39->49',\n",
       " '53->72',\n",
       " '72->61',\n",
       " '72->79']"
      ]
     },
     "execution_count": 11,
     "metadata": {},
     "output_type": "execute_result"
    }
   ],
   "source": [
    "arvore.excluir(84)\n",
    "arvore.ligacoes"
   ]
  },
  {
   "cell_type": "code",
   "execution_count": 12,
   "id": "overhead-munich",
   "metadata": {},
   "outputs": [
    {
     "data": {
      "text/plain": [
       "['53->30',\n",
       " '30->14',\n",
       " '30->39',\n",
       " '14->23',\n",
       " '39->34',\n",
       " '39->49',\n",
       " '53->72',\n",
       " '72->61',\n",
       " '72->79']"
      ]
     },
     "execution_count": 12,
     "metadata": {},
     "output_type": "execute_result"
    }
   ],
   "source": [
    "arvore.excluir(9)\n",
    "arvore.ligacoes"
   ]
  },
  {
   "cell_type": "code",
   "execution_count": 13,
   "id": "adjacent-library",
   "metadata": {},
   "outputs": [
    {
     "data": {
      "text/plain": [
       "['53->30',\n",
       " '30->39',\n",
       " '39->34',\n",
       " '39->49',\n",
       " '53->72',\n",
       " '72->61',\n",
       " '72->79',\n",
       " '30->23']"
      ]
     },
     "execution_count": 13,
     "metadata": {},
     "output_type": "execute_result"
    }
   ],
   "source": [
    "arvore.excluir(14)\n",
    "arvore.ligacoes"
   ]
  },
  {
   "cell_type": "code",
   "execution_count": 14,
   "id": "specified-mississippi",
   "metadata": {},
   "outputs": [
    {
     "data": {
      "text/plain": [
       "['53->30',\n",
       " '30->39',\n",
       " '39->34',\n",
       " '39->49',\n",
       " '30->23',\n",
       " '53->79',\n",
       " '79->61',\n",
       " '79->79']"
      ]
     },
     "execution_count": 14,
     "metadata": {},
     "output_type": "execute_result"
    }
   ],
   "source": [
    "arvore.excluir(72)\n",
    "arvore.ligacoes"
   ]
  },
  {
   "cell_type": "code",
   "execution_count": 15,
   "id": "bridal-prompt",
   "metadata": {},
   "outputs": [
    {
     "data": {
      "text/plain": [
       "['39->34',\n",
       " '39->49',\n",
       " '53->79',\n",
       " '79->61',\n",
       " '79->79',\n",
       " '53->34',\n",
       " '34->23',\n",
       " '34->39']"
      ]
     },
     "execution_count": 15,
     "metadata": {},
     "output_type": "execute_result"
    }
   ],
   "source": [
    "arvore.excluir(30)\n",
    "arvore.ligacoes"
   ]
  }
 ],
 "metadata": {
  "kernelspec": {
   "display_name": "Python 3",
   "language": "python",
   "name": "python3"
  },
  "language_info": {
   "codemirror_mode": {
    "name": "ipython",
    "version": 3
   },
   "file_extension": ".py",
   "mimetype": "text/x-python",
   "name": "python",
   "nbconvert_exporter": "python",
   "pygments_lexer": "ipython3",
   "version": "3.8.6"
  }
 },
 "nbformat": 4,
 "nbformat_minor": 5
}
