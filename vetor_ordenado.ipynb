{
 "cells": [
  {
   "cell_type": "markdown",
   "id": "adverse-yacht",
   "metadata": {},
   "source": [
    " # Vetor ordenado\n",
    " \n",
    " * Inserção: O(n) - linear\n",
    " * Pesquisa: O(n) - linear\n",
    " * Deleção: O(n) - linear "
   ]
  },
  {
   "cell_type": "code",
   "execution_count": 1,
   "id": "metric-activity",
   "metadata": {},
   "outputs": [],
   "source": [
    "import numpy as np"
   ]
  },
  {
   "cell_type": "markdown",
   "id": "bibliographic-athletics",
   "metadata": {},
   "source": [
    "Criando a classe do vetor"
   ]
  },
  {
   "cell_type": "code",
   "execution_count": 2,
   "id": "medium-watson",
   "metadata": {},
   "outputs": [],
   "source": [
    "class VetorOrdenado:\n",
    "    \n",
    "    def __init__(self, capacidade):\n",
    "        \n",
    "        self.capacidade = capacidade\n",
    "        self.ultima_posicao = -1\n",
    "        self.valores = np.empty(self.capacidade, dtype=int)\n",
    "    \n",
    "    # O(n)\n",
    "    def imprime(self):\n",
    "        \n",
    "        if self.ultima_posicao == -1:\n",
    "            print('O vetor esta vazio')\n",
    "        else:\n",
    "            for i in range(self.ultima_posicao + 1):\n",
    "                print('posicao', i, ':', self.valores[i])\n",
    "    \n",
    "    # O(n)\n",
    "    def insere(self, valor):\n",
    "        \n",
    "        if self.ultima_posicao == self.capacidade - 1:\n",
    "            print('Capacidade maxima atingida')\n",
    "            return\n",
    "        \n",
    "        posicao = 0\n",
    "        \n",
    "        # percorrendo o vetor\n",
    "        for i in range(self.ultima_posicao + 1):\n",
    "            \n",
    "            posicao = i\n",
    "            \n",
    "            # se a posicao tiver um valor maior que o valor a ser inserido\n",
    "            if self.valores[i] > valor:\n",
    "                break\n",
    "            if i == self.ultima_posicao:\n",
    "                posicao = i + 1\n",
    "        \n",
    "        x = self.ultima_posicao\n",
    "        \n",
    "        # remanejando os valores do vetor maiores que o numero a ser inserido\n",
    "        # para uma \"casa\" a frente\n",
    "        while x >= posicao:\n",
    "            self.valores[x + 1] = self.valores[x]\n",
    "            x -= 1\n",
    "        \n",
    "        # inserindo o valor de fato, apos serem feitas as modificacoes necessarias no vetor\n",
    "        self.valores[posicao] = valor\n",
    "        self.ultima_posicao += 1\n",
    "    \n",
    "    # O(n)\n",
    "    def pesquisa_linear(self, valor):\n",
    "        \n",
    "        for i in range(self.ultima_posicao + 1):\n",
    "            # se a posicao i tiver um valor maior que o pesquisado, entao ele nao existe\n",
    "            if self.valores[i] > valor:\n",
    "                return -1\n",
    "            if self.valores[i] == valor:\n",
    "                return i\n",
    "            # tratamento para o caso de o valor pesquisado nao existir e for maior que o ultimo elemento\n",
    "            if i == self.ultima_posicao:\n",
    "                return -1\n",
    "    \n",
    "    # O(log n)\n",
    "    def pesquisa_binaria(self, valor):\n",
    "        limite_inferior = 0\n",
    "        limite_superior = self.ultima_posicao\n",
    "        \n",
    "        while True:\n",
    "            posicao_atual = int((limite_inferior + limite_superior)/2)\n",
    "            \n",
    "            # se achar na primeira tentativa\n",
    "            if self.valores[posicao_atual] == valor:\n",
    "                return posicao_atual\n",
    "            \n",
    "            # se nao achou\n",
    "            elif limite_inferior > limite_superior:\n",
    "                return -1\n",
    "            \n",
    "            else:\n",
    "                # se valor for maior que a posicao atual, ela vai ser o limite inferior + 1\n",
    "                if self.valores[posicao_atual] < valor:\n",
    "                    limite_inferior = posicao_atual + 1\n",
    "                \n",
    "                # se o valor for menor que a posicao atual, ela vai ser o limite superior - 1\n",
    "                else:\n",
    "                    limite_superior = posicao_atual - 1\n",
    "       \n",
    "    # O(n)\n",
    "    def excluir(self, valor):\n",
    "        \n",
    "        posicao = self.pesquisa_linear(valor)\n",
    "        \n",
    "        if posicao == -1:\n",
    "            return -1\n",
    "        else:\n",
    "            # remanejando os valores\n",
    "            for i in range(posicao, self.ultima_posicao):\n",
    "                self.valores[i] = self.valores[i + 1]\n",
    "            \n",
    "            self.ultima_posicao -= 1"
   ]
  },
  {
   "cell_type": "code",
   "execution_count": 3,
   "id": "informational-median",
   "metadata": {},
   "outputs": [
    {
     "name": "stdout",
     "output_type": "stream",
     "text": [
      "O vetor esta vazio\n"
     ]
    }
   ],
   "source": [
    "vetor = VetorOrdenado(10)\n",
    "vetor.imprime()"
   ]
  },
  {
   "cell_type": "code",
   "execution_count": 4,
   "id": "exotic-posting",
   "metadata": {},
   "outputs": [
    {
     "name": "stdout",
     "output_type": "stream",
     "text": [
      "posicao 0 : 6\n"
     ]
    }
   ],
   "source": [
    "vetor.insere(6)\n",
    "vetor.imprime()"
   ]
  },
  {
   "cell_type": "code",
   "execution_count": 5,
   "id": "ceramic-airplane",
   "metadata": {},
   "outputs": [
    {
     "name": "stdout",
     "output_type": "stream",
     "text": [
      "posicao 0 : 4\n",
      "posicao 1 : 6\n"
     ]
    }
   ],
   "source": [
    "vetor.insere(4)\n",
    "vetor.imprime()"
   ]
  },
  {
   "cell_type": "code",
   "execution_count": 6,
   "id": "functional-simpson",
   "metadata": {},
   "outputs": [
    {
     "name": "stdout",
     "output_type": "stream",
     "text": [
      "posicao 0 : 3\n",
      "posicao 1 : 4\n",
      "posicao 2 : 6\n"
     ]
    }
   ],
   "source": [
    "vetor.insere(3)\n",
    "vetor.imprime()"
   ]
  },
  {
   "cell_type": "code",
   "execution_count": 7,
   "id": "cutting-cornwall",
   "metadata": {},
   "outputs": [
    {
     "name": "stdout",
     "output_type": "stream",
     "text": [
      "posicao 0 : 3\n",
      "posicao 1 : 4\n",
      "posicao 2 : 5\n",
      "posicao 3 : 6\n"
     ]
    }
   ],
   "source": [
    "vetor.insere(5)\n",
    "vetor.imprime()"
   ]
  },
  {
   "cell_type": "code",
   "execution_count": 8,
   "id": "departmental-linux",
   "metadata": {},
   "outputs": [
    {
     "name": "stdout",
     "output_type": "stream",
     "text": [
      "posicao 0 : 1\n",
      "posicao 1 : 3\n",
      "posicao 2 : 4\n",
      "posicao 3 : 5\n",
      "posicao 4 : 6\n"
     ]
    }
   ],
   "source": [
    "vetor.insere(1)\n",
    "vetor.imprime()"
   ]
  },
  {
   "cell_type": "code",
   "execution_count": 9,
   "id": "devoted-condition",
   "metadata": {},
   "outputs": [
    {
     "name": "stdout",
     "output_type": "stream",
     "text": [
      "posicao 0 : 1\n",
      "posicao 1 : 3\n",
      "posicao 2 : 4\n",
      "posicao 3 : 5\n",
      "posicao 4 : 6\n",
      "posicao 5 : 8\n"
     ]
    }
   ],
   "source": [
    "vetor.insere(8)\n",
    "vetor.imprime()"
   ]
  },
  {
   "cell_type": "code",
   "execution_count": 10,
   "id": "respiratory-edgar",
   "metadata": {},
   "outputs": [
    {
     "data": {
      "text/plain": [
       "3"
      ]
     },
     "execution_count": 10,
     "metadata": {},
     "output_type": "execute_result"
    }
   ],
   "source": [
    "vetor.pesquisa_linear(5)"
   ]
  },
  {
   "cell_type": "code",
   "execution_count": 11,
   "id": "orange-stylus",
   "metadata": {},
   "outputs": [
    {
     "data": {
      "text/plain": [
       "5"
      ]
     },
     "execution_count": 11,
     "metadata": {},
     "output_type": "execute_result"
    }
   ],
   "source": [
    "vetor.pesquisa_linear(8)"
   ]
  },
  {
   "cell_type": "code",
   "execution_count": 12,
   "id": "golden-jamaica",
   "metadata": {},
   "outputs": [
    {
     "data": {
      "text/plain": [
       "-1"
      ]
     },
     "execution_count": 12,
     "metadata": {},
     "output_type": "execute_result"
    }
   ],
   "source": [
    "vetor.pesquisa_linear(2)"
   ]
  },
  {
   "cell_type": "code",
   "execution_count": 13,
   "id": "inappropriate-marks",
   "metadata": {},
   "outputs": [
    {
     "data": {
      "text/plain": [
       "-1"
      ]
     },
     "execution_count": 13,
     "metadata": {},
     "output_type": "execute_result"
    }
   ],
   "source": [
    "vetor.pesquisa_linear(9)"
   ]
  },
  {
   "cell_type": "code",
   "execution_count": 14,
   "id": "alert-liberty",
   "metadata": {},
   "outputs": [
    {
     "name": "stdout",
     "output_type": "stream",
     "text": [
      "posicao 0 : 1\n",
      "posicao 1 : 3\n",
      "posicao 2 : 4\n",
      "posicao 3 : 5\n",
      "posicao 4 : 6\n",
      "posicao 5 : 8\n"
     ]
    }
   ],
   "source": [
    "vetor.imprime()"
   ]
  },
  {
   "cell_type": "code",
   "execution_count": 15,
   "id": "stock-birmingham",
   "metadata": {},
   "outputs": [
    {
     "name": "stdout",
     "output_type": "stream",
     "text": [
      "posicao 0 : 1\n",
      "posicao 1 : 3\n",
      "posicao 2 : 4\n",
      "posicao 3 : 6\n",
      "posicao 4 : 8\n"
     ]
    }
   ],
   "source": [
    "vetor.excluir(5)\n",
    "vetor.imprime()"
   ]
  },
  {
   "cell_type": "code",
   "execution_count": 16,
   "id": "configured-warehouse",
   "metadata": {},
   "outputs": [
    {
     "name": "stdout",
     "output_type": "stream",
     "text": [
      "posicao 0 : 3\n",
      "posicao 1 : 4\n",
      "posicao 2 : 6\n",
      "posicao 3 : 8\n"
     ]
    }
   ],
   "source": [
    "vetor.excluir(1)\n",
    "vetor.imprime()"
   ]
  },
  {
   "cell_type": "code",
   "execution_count": 17,
   "id": "entire-broadway",
   "metadata": {},
   "outputs": [
    {
     "name": "stdout",
     "output_type": "stream",
     "text": [
      "posicao 0 : 3\n",
      "posicao 1 : 4\n",
      "posicao 2 : 6\n"
     ]
    }
   ],
   "source": [
    "vetor.excluir(8)\n",
    "vetor.imprime()"
   ]
  },
  {
   "cell_type": "code",
   "execution_count": 18,
   "id": "enormous-outdoors",
   "metadata": {},
   "outputs": [
    {
     "data": {
      "text/plain": [
       "-1"
      ]
     },
     "execution_count": 18,
     "metadata": {},
     "output_type": "execute_result"
    }
   ],
   "source": [
    "vetor.excluir(9)"
   ]
  },
  {
   "cell_type": "code",
   "execution_count": 19,
   "id": "distant-factory",
   "metadata": {},
   "outputs": [],
   "source": [
    "vetor2 = VetorOrdenado(10)"
   ]
  },
  {
   "cell_type": "code",
   "execution_count": 20,
   "id": "private-minority",
   "metadata": {},
   "outputs": [
    {
     "name": "stdout",
     "output_type": "stream",
     "text": [
      "posicao 0 : 1\n",
      "posicao 1 : 2\n",
      "posicao 2 : 4\n",
      "posicao 3 : 5\n",
      "posicao 4 : 7\n",
      "posicao 5 : 8\n",
      "posicao 6 : 9\n",
      "posicao 7 : 11\n",
      "posicao 8 : 13\n"
     ]
    }
   ],
   "source": [
    "vetor2.insere(8)\n",
    "vetor2.insere(9)\n",
    "vetor2.insere(4)\n",
    "vetor2.insere(1)\n",
    "vetor2.insere(5)\n",
    "vetor2.insere(7)\n",
    "vetor2.insere(11)\n",
    "vetor2.insere(13)\n",
    "vetor2.insere(2)\n",
    "\n",
    "vetor2.imprime()"
   ]
  },
  {
   "cell_type": "code",
   "execution_count": 21,
   "id": "headed-nightlife",
   "metadata": {},
   "outputs": [
    {
     "data": {
      "text/plain": [
       "4"
      ]
     },
     "execution_count": 21,
     "metadata": {},
     "output_type": "execute_result"
    }
   ],
   "source": [
    "vetor2.pesquisa_binaria(7)"
   ]
  },
  {
   "cell_type": "code",
   "execution_count": 22,
   "id": "altered-praise",
   "metadata": {},
   "outputs": [
    {
     "data": {
      "text/plain": [
       "3"
      ]
     },
     "execution_count": 22,
     "metadata": {},
     "output_type": "execute_result"
    }
   ],
   "source": [
    "vetor2.pesquisa_binaria(5)"
   ]
  },
  {
   "cell_type": "code",
   "execution_count": 23,
   "id": "therapeutic-guidance",
   "metadata": {},
   "outputs": [
    {
     "data": {
      "text/plain": [
       "8"
      ]
     },
     "execution_count": 23,
     "metadata": {},
     "output_type": "execute_result"
    }
   ],
   "source": [
    "vetor2.pesquisa_binaria(13)"
   ]
  },
  {
   "cell_type": "code",
   "execution_count": 24,
   "id": "recognized-costume",
   "metadata": {},
   "outputs": [
    {
     "data": {
      "text/plain": [
       "-1"
      ]
     },
     "execution_count": 24,
     "metadata": {},
     "output_type": "execute_result"
    }
   ],
   "source": [
    "vetor2.pesquisa_binaria(20)"
   ]
  }
 ],
 "metadata": {
  "kernelspec": {
   "display_name": "Python 3",
   "language": "python",
   "name": "python3"
  },
  "language_info": {
   "codemirror_mode": {
    "name": "ipython",
    "version": 3
   },
   "file_extension": ".py",
   "mimetype": "text/x-python",
   "name": "python",
   "nbconvert_exporter": "python",
   "pygments_lexer": "ipython3",
   "version": "3.8.6"
  }
 },
 "nbformat": 4,
 "nbformat_minor": 5
}
