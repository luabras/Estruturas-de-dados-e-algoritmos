{
 "cells": [
  {
   "cell_type": "markdown",
   "id": "blank-aviation",
   "metadata": {},
   "source": [
    " # Vetor não-ordenado\n",
    " \n",
    " Fica a critério do desenvolvedor decidir se dados duplicados são permitidos.\n",
    " \n",
    " Complexidade para vetores não-ordenados com dados duplicados:\n",
    " \n",
    " * Inserção: O(1) - constante\n",
    " * Pesquisa: O(n) - linear\n",
    " * Deleção: O(n) - linear \n",
    " \n",
    "Caso não seja permitido dados duplicados, a complexidade fica:\n",
    " \n",
    " * Inserção: O(n) - linear\n",
    " * Pesquisa: O(n) - linear\n",
    " * Deleção: O(n) - linear "
   ]
  },
  {
   "cell_type": "code",
   "execution_count": 1,
   "id": "congressional-agriculture",
   "metadata": {},
   "outputs": [],
   "source": [
    "import numpy as np"
   ]
  },
  {
   "cell_type": "markdown",
   "id": "wound-austin",
   "metadata": {},
   "source": [
    "Criando a classe do vetor"
   ]
  },
  {
   "cell_type": "code",
   "execution_count": 2,
   "id": "dynamic-aggregate",
   "metadata": {},
   "outputs": [],
   "source": [
    "class VetorNaoOrdenado:\n",
    "    \n",
    "    # inicializando o construtor\n",
    "    def __init__(self, capacidade):\n",
    "        self.capacidade = capacidade\n",
    "        \n",
    "        # exemplo: se estou inicializando um vetor com 10 posicoes,\n",
    "        # mas estou usando somente 5 dessas 10 posicoes, entao a\n",
    "        # variavel ultima_posicao eh o ponteiro que vai armazenar\n",
    "        # onde esta o ultimo elemento do vetor\n",
    "        self.ultima_posicao = -1\n",
    "        \n",
    "        # aqui teremos efetivamente os dados do vetor\n",
    "        # np.empty cria um array vazio\n",
    "        self.valores = np.empty(self.capacidade, dtype=int)\n",
    "       \n",
    "    # O(n)\n",
    "    def imprime(self):\n",
    "        \n",
    "        if self.ultima_posicao == -1:\n",
    "            print('O vetor esta vazio')\n",
    "        else:\n",
    "            for i in range(self.ultima_posicao + 1):\n",
    "                print('posicao', i, ':', self.valores[i])\n",
    "    \n",
    "    # O(1) - O(2)\n",
    "    def insere(self, valor):\n",
    "        \n",
    "        if self.ultima_posicao == self.capacidade - 1:\n",
    "            print('Capacidade maxima atingida')\n",
    "            \n",
    "        else:\n",
    "            # incrementando o valor da variavel de controle ultima_posicao\n",
    "            # ultima_posicao comeca em -1, pois o vetor ainda nao \"existe\"\n",
    "            # quando eh inserido o primeiro elemento, ele sai de -1 pra 0 (primeira posicao)\n",
    "            # ele eh sempre incrementado conforme as posicoes vao ficando disponiveis\n",
    "            self.ultima_posicao += 1\n",
    "            \n",
    "            # adicionando o valor a ser inserido no vetor na ultima posicao\n",
    "            self.valores[self.ultima_posicao] = valor\n",
    "    \n",
    "    # O(n)\n",
    "    def pesquisar(self, valor):\n",
    "        \n",
    "        for i in range(self.ultima_posicao + 1):\n",
    "            if valor == self.valores[i]:\n",
    "                return i\n",
    "        return -1\n",
    "    \n",
    "    # O(n)\n",
    "    def excluir(self, valor):\n",
    "        \n",
    "        posicao = self.pesquisar(valor)\n",
    "        \n",
    "        if posicao == -1:\n",
    "            return -1\n",
    "        else:\n",
    "            # remanejando os valores\n",
    "            for i in range(posicao, self.ultima_posicao):\n",
    "                self.valores[i] = self.valores[i + 1]\n",
    "            \n",
    "            self.ultima_posicao -= 1"
   ]
  },
  {
   "cell_type": "code",
   "execution_count": 3,
   "id": "comprehensive-smith",
   "metadata": {},
   "outputs": [],
   "source": [
    "vetor = VetorNaoOrdenado(5)"
   ]
  },
  {
   "cell_type": "code",
   "execution_count": 4,
   "id": "japanese-bouquet",
   "metadata": {},
   "outputs": [
    {
     "name": "stdout",
     "output_type": "stream",
     "text": [
      "O vetor esta vazio\n"
     ]
    }
   ],
   "source": [
    "vetor.imprime()"
   ]
  },
  {
   "cell_type": "code",
   "execution_count": 5,
   "id": "private-debate",
   "metadata": {},
   "outputs": [],
   "source": [
    "vetor.insere(2)"
   ]
  },
  {
   "cell_type": "code",
   "execution_count": 6,
   "id": "liable-photographer",
   "metadata": {},
   "outputs": [
    {
     "name": "stdout",
     "output_type": "stream",
     "text": [
      "posicao 0 : 2\n"
     ]
    }
   ],
   "source": [
    "vetor.imprime()"
   ]
  },
  {
   "cell_type": "code",
   "execution_count": 7,
   "id": "pursuant-cedar",
   "metadata": {},
   "outputs": [],
   "source": [
    "vetor.insere(3)\n",
    "vetor.insere(5)\n",
    "vetor.insere(8)\n",
    "vetor.insere(1)"
   ]
  },
  {
   "cell_type": "code",
   "execution_count": 8,
   "id": "experimental-newton",
   "metadata": {},
   "outputs": [
    {
     "name": "stdout",
     "output_type": "stream",
     "text": [
      "posicao 0 : 2\n",
      "posicao 1 : 3\n",
      "posicao 2 : 5\n",
      "posicao 3 : 8\n",
      "posicao 4 : 1\n"
     ]
    }
   ],
   "source": [
    "vetor.imprime()"
   ]
  },
  {
   "cell_type": "code",
   "execution_count": 9,
   "id": "american-behavior",
   "metadata": {},
   "outputs": [
    {
     "name": "stdout",
     "output_type": "stream",
     "text": [
      "Capacidade maxima atingida\n"
     ]
    }
   ],
   "source": [
    "vetor.insere(7)"
   ]
  },
  {
   "cell_type": "code",
   "execution_count": 10,
   "id": "beautiful-henry",
   "metadata": {},
   "outputs": [
    {
     "data": {
      "text/plain": [
       "4"
      ]
     },
     "execution_count": 10,
     "metadata": {},
     "output_type": "execute_result"
    }
   ],
   "source": [
    "vetor.ultima_posicao"
   ]
  },
  {
   "cell_type": "code",
   "execution_count": 11,
   "id": "dense-aerospace",
   "metadata": {},
   "outputs": [
    {
     "data": {
      "text/plain": [
       "3"
      ]
     },
     "execution_count": 11,
     "metadata": {},
     "output_type": "execute_result"
    }
   ],
   "source": [
    "vetor.pesquisar(8)"
   ]
  },
  {
   "cell_type": "code",
   "execution_count": 12,
   "id": "phantom-delaware",
   "metadata": {},
   "outputs": [
    {
     "data": {
      "text/plain": [
       "-1"
      ]
     },
     "execution_count": 12,
     "metadata": {},
     "output_type": "execute_result"
    }
   ],
   "source": [
    "vetor.pesquisar(9)"
   ]
  },
  {
   "cell_type": "code",
   "execution_count": 13,
   "id": "running-vietnamese",
   "metadata": {},
   "outputs": [
    {
     "name": "stdout",
     "output_type": "stream",
     "text": [
      "posicao 0 : 2\n",
      "posicao 1 : 3\n",
      "posicao 2 : 5\n",
      "posicao 3 : 8\n",
      "posicao 4 : 1\n"
     ]
    }
   ],
   "source": [
    "vetor.imprime()"
   ]
  },
  {
   "cell_type": "code",
   "execution_count": 14,
   "id": "sexual-drink",
   "metadata": {},
   "outputs": [],
   "source": [
    "vetor.excluir(5)"
   ]
  },
  {
   "cell_type": "code",
   "execution_count": 15,
   "id": "greenhouse-worship",
   "metadata": {},
   "outputs": [
    {
     "name": "stdout",
     "output_type": "stream",
     "text": [
      "posicao 0 : 2\n",
      "posicao 1 : 3\n",
      "posicao 2 : 8\n",
      "posicao 3 : 1\n"
     ]
    }
   ],
   "source": [
    "vetor.imprime()"
   ]
  },
  {
   "cell_type": "code",
   "execution_count": 16,
   "id": "joined-commitment",
   "metadata": {},
   "outputs": [],
   "source": [
    "vetor.excluir(1)"
   ]
  },
  {
   "cell_type": "code",
   "execution_count": 17,
   "id": "proper-contract",
   "metadata": {},
   "outputs": [
    {
     "name": "stdout",
     "output_type": "stream",
     "text": [
      "posicao 0 : 2\n",
      "posicao 1 : 3\n",
      "posicao 2 : 8\n"
     ]
    }
   ],
   "source": [
    "vetor.imprime()"
   ]
  },
  {
   "cell_type": "code",
   "execution_count": 18,
   "id": "czech-theme",
   "metadata": {},
   "outputs": [],
   "source": [
    "vetor.excluir(2)"
   ]
  },
  {
   "cell_type": "code",
   "execution_count": 19,
   "id": "comparative-adobe",
   "metadata": {},
   "outputs": [
    {
     "name": "stdout",
     "output_type": "stream",
     "text": [
      "posicao 0 : 3\n",
      "posicao 1 : 8\n"
     ]
    }
   ],
   "source": [
    "vetor.imprime()"
   ]
  },
  {
   "cell_type": "code",
   "execution_count": 20,
   "id": "registered-belfast",
   "metadata": {},
   "outputs": [
    {
     "name": "stdout",
     "output_type": "stream",
     "text": [
      "posicao 0 : 3\n",
      "posicao 1 : 8\n",
      "posicao 2 : 5\n",
      "posicao 3 : 1\n"
     ]
    }
   ],
   "source": [
    "vetor.insere(5)\n",
    "vetor.insere(1)\n",
    "vetor.imprime()"
   ]
  }
 ],
 "metadata": {
  "kernelspec": {
   "display_name": "Python 3",
   "language": "python",
   "name": "python3"
  },
  "language_info": {
   "codemirror_mode": {
    "name": "ipython",
    "version": 3
   },
   "file_extension": ".py",
   "mimetype": "text/x-python",
   "name": "python",
   "nbconvert_exporter": "python",
   "pygments_lexer": "ipython3",
   "version": "3.8.6"
  }
 },
 "nbformat": 4,
 "nbformat_minor": 5
}
