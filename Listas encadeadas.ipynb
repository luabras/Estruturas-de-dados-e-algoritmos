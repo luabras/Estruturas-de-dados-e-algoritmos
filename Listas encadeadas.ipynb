{
 "cells": [
  {
   "cell_type": "markdown",
   "id": "champion-alert",
   "metadata": {},
   "source": [
    "Desvantagens de se trabalhar com vetores clássicos:\n",
    "\n",
    "* Em um vetor não ordenado, a busca é lenta;\n",
    "* Em um vetor ordenado, a inserção é lenta;\n",
    "* Tanto no vetor ordenado, quanto no não-ordenado, a remoção é lenta;\n",
    "* O tamanho do vetor não pode ser alterado depois de criado;\n",
    "* Vetores mesmo quando vazios, ainda ocupam espaço na memória."
   ]
  },
  {
   "cell_type": "markdown",
   "id": "centered-final",
   "metadata": {},
   "source": [
    "A inserção e deleção no início (qualquer lista encadeada) e no final (usando listas encadeadas com extremidades duplas) tem complexidade O(1).\n",
    "\n",
    "Pesquisar, excluir ou inserir próximo a um nó específico tem complexidade O(n)."
   ]
  },
  {
   "cell_type": "code",
   "execution_count": 1,
   "id": "palestinian-delicious",
   "metadata": {},
   "outputs": [],
   "source": [
    "import numpy as np"
   ]
  },
  {
   "cell_type": "markdown",
   "id": "refined-douglas",
   "metadata": {},
   "source": [
    "# Listas encadeadas simples"
   ]
  },
  {
   "cell_type": "code",
   "execution_count": 2,
   "id": "decreased-projector",
   "metadata": {},
   "outputs": [],
   "source": [
    "class No:\n",
    "    \n",
    "    def __init__(self, valor):\n",
    "        self.valor = valor\n",
    "        self.proximo = None\n",
    "        \n",
    "    def mostra_no(self):\n",
    "        print(self.valor)"
   ]
  },
  {
   "cell_type": "code",
   "execution_count": 3,
   "id": "colored-percentage",
   "metadata": {},
   "outputs": [],
   "source": [
    "class ListaEncadeada:\n",
    "    \n",
    "    def __init__(self):\n",
    "        # cabeca da lista que vai apontar sempre pro primeiro 'no' da lista\n",
    "        self.primeiro = None\n",
    "    \n",
    "    def insere_inicio(self, valor):\n",
    "        # criando um novo objeto No\n",
    "        novo = No(valor)\n",
    "        # o campo do 'no' que aponta pro proximo elemento vai apontar pro proximo elemento da lista\n",
    "        # (que era anteriormente o primeiro), ja que estamos inserindo um novo 'no' no inicio\n",
    "        novo.proximo = self.primeiro\n",
    "        # a cabeca da lista vai apontar pro novo primeiro 'no'\n",
    "        self.primeiro = novo\n",
    "        \n",
    "    def mostrar(self):\n",
    "        \n",
    "        if self.primeiro == None:\n",
    "            print('A lista esta vazia')\n",
    "            return None\n",
    "        \n",
    "        atual = self.primeiro\n",
    "        \n",
    "        # enquanto o 'no' for diferente de None\n",
    "        while atual != None:\n",
    "            atual.mostra_no()\n",
    "            atual = atual.proximo\n",
    "            \n",
    "    def excluir_inicio(self):\n",
    "        \n",
    "        if self.primeiro == None:\n",
    "            print('A lista esta vazia')\n",
    "            return None\n",
    "        \n",
    "        # guardando o elemento a ser excluido\n",
    "        temp = self.primeiro\n",
    "        # o primeiro elemento agora vai ser o segundo\n",
    "        self.primeiro = self.primeiro.proximo\n",
    "        # retornando o elemento excluido\n",
    "        return temp\n",
    "    \n",
    "    def pesquisa(self, valor):\n",
    "        \n",
    "        if self.primeiro == None:\n",
    "            print('A lista esta vazia')\n",
    "            return None\n",
    "        \n",
    "        atual = self.primeiro\n",
    "        \n",
    "        # percorrendo linearmente a lista enquanto o valor do 'no' atual for diferente do valor buscado\n",
    "        while atual.valor != valor:\n",
    "            # se chegar no final da lista e o valor nao for achado\n",
    "            if atual.proximo == None:\n",
    "                return None\n",
    "            else:\n",
    "                atual = atual.proximo\n",
    "        # retornando o valor buscado quando for achado\n",
    "        return atual\n",
    "    \n",
    "    def excluir_posicao(self, valor):\n",
    "        \n",
    "        if self.primeiro == None:\n",
    "            print('A lista esta vazia')\n",
    "            return None\n",
    "        \n",
    "        atual = self.primeiro\n",
    "        anterior = self.primeiro\n",
    "        \n",
    "        # percorrendo linearmente a lista enquanto o valor do 'no' atual for diferente do valor buscado\n",
    "        while atual.valor != valor:\n",
    "            # se chegar no final da lista e o valor nao for achado\n",
    "            if atual.proximo == None:\n",
    "                return None\n",
    "            else:\n",
    "                anterior = atual\n",
    "                atual = atual.proximo\n",
    "        \n",
    "        # se o valor a ser apagado for o primeiro elemento, a cabeca vai apontar pro segundo elemento\n",
    "        if atual == self.primeiro:\n",
    "            self.primeiro = self.primeiro.proximo\n",
    "        # se nao, o valor anterior ao apagado vai apontar para o valor posterior ao apagado\n",
    "        else:\n",
    "            anterior.proximo = atual.proximo\n",
    "            \n",
    "        # retorna o valor apagado\n",
    "        return atual"
   ]
  },
  {
   "cell_type": "code",
   "execution_count": 4,
   "id": "composite-recommendation",
   "metadata": {},
   "outputs": [
    {
     "name": "stdout",
     "output_type": "stream",
     "text": [
      "1\n"
     ]
    }
   ],
   "source": [
    "no1 = No(1)\n",
    "no1.mostra_no()"
   ]
  },
  {
   "cell_type": "code",
   "execution_count": 5,
   "id": "owned-spain",
   "metadata": {},
   "outputs": [
    {
     "name": "stdout",
     "output_type": "stream",
     "text": [
      "2\n"
     ]
    }
   ],
   "source": [
    "no2 = No(2)\n",
    "no2.mostra_no()"
   ]
  },
  {
   "cell_type": "code",
   "execution_count": 6,
   "id": "fatty-contact",
   "metadata": {},
   "outputs": [],
   "source": [
    "lista = ListaEncadeada()"
   ]
  },
  {
   "cell_type": "code",
   "execution_count": 7,
   "id": "black-oriental",
   "metadata": {},
   "outputs": [],
   "source": [
    "lista.insere_inicio(1)"
   ]
  },
  {
   "cell_type": "code",
   "execution_count": 8,
   "id": "rapid-assault",
   "metadata": {},
   "outputs": [
    {
     "data": {
      "text/plain": [
       "<__main__.No at 0x26d642386d0>"
      ]
     },
     "execution_count": 8,
     "metadata": {},
     "output_type": "execute_result"
    }
   ],
   "source": [
    "lista.primeiro"
   ]
  },
  {
   "cell_type": "code",
   "execution_count": 9,
   "id": "little-islam",
   "metadata": {},
   "outputs": [
    {
     "name": "stdout",
     "output_type": "stream",
     "text": [
      "1\n"
     ]
    }
   ],
   "source": [
    "lista.mostrar()"
   ]
  },
  {
   "cell_type": "code",
   "execution_count": 10,
   "id": "satisfactory-jacob",
   "metadata": {},
   "outputs": [
    {
     "name": "stdout",
     "output_type": "stream",
     "text": [
      "2\n",
      "1\n"
     ]
    }
   ],
   "source": [
    "lista.insere_inicio(2)\n",
    "lista.mostrar()"
   ]
  },
  {
   "cell_type": "code",
   "execution_count": 11,
   "id": "center-multimedia",
   "metadata": {},
   "outputs": [
    {
     "data": {
      "text/plain": [
       "<__main__.No at 0x26d7a641a60>"
      ]
     },
     "execution_count": 11,
     "metadata": {},
     "output_type": "execute_result"
    }
   ],
   "source": [
    "lista.primeiro"
   ]
  },
  {
   "cell_type": "code",
   "execution_count": 12,
   "id": "attractive-wound",
   "metadata": {},
   "outputs": [
    {
     "name": "stdout",
     "output_type": "stream",
     "text": [
      "2\n"
     ]
    }
   ],
   "source": [
    "lista.primeiro.mostra_no()"
   ]
  },
  {
   "cell_type": "code",
   "execution_count": 13,
   "id": "flexible-commissioner",
   "metadata": {},
   "outputs": [
    {
     "data": {
      "text/plain": [
       "<__main__.No at 0x26d642386d0>"
      ]
     },
     "execution_count": 13,
     "metadata": {},
     "output_type": "execute_result"
    }
   ],
   "source": [
    "lista.primeiro.proximo"
   ]
  },
  {
   "cell_type": "code",
   "execution_count": 14,
   "id": "beginning-concept",
   "metadata": {},
   "outputs": [
    {
     "name": "stdout",
     "output_type": "stream",
     "text": [
      "4\n",
      "4\n",
      "3\n",
      "2\n",
      "1\n"
     ]
    }
   ],
   "source": [
    "lista.insere_inicio(3)\n",
    "lista.insere_inicio(4)\n",
    "lista.insere_inicio(4)\n",
    "lista.mostrar()"
   ]
  },
  {
   "cell_type": "code",
   "execution_count": 15,
   "id": "related-estimate",
   "metadata": {},
   "outputs": [
    {
     "data": {
      "text/plain": [
       "<__main__.No at 0x26d642386d0>"
      ]
     },
     "execution_count": 15,
     "metadata": {},
     "output_type": "execute_result"
    }
   ],
   "source": [
    "lista.primeiro.proximo.proximo.proximo.proximo"
   ]
  },
  {
   "cell_type": "code",
   "execution_count": 16,
   "id": "found-plastic",
   "metadata": {},
   "outputs": [
    {
     "name": "stdout",
     "output_type": "stream",
     "text": [
      "5\n",
      "4\n",
      "3\n",
      "2\n",
      "1\n"
     ]
    }
   ],
   "source": [
    "lista2 = ListaEncadeada()\n",
    "lista2.insere_inicio(1)\n",
    "lista2.insere_inicio(2)\n",
    "lista2.insere_inicio(3)\n",
    "lista2.insere_inicio(4)\n",
    "lista2.insere_inicio(5)\n",
    "lista2.mostrar()"
   ]
  },
  {
   "cell_type": "code",
   "execution_count": 17,
   "id": "waiting-corrections",
   "metadata": {},
   "outputs": [
    {
     "name": "stdout",
     "output_type": "stream",
     "text": [
      "4\n",
      "3\n",
      "2\n",
      "1\n"
     ]
    }
   ],
   "source": [
    "lista2.excluir_inicio()\n",
    "lista2.mostrar()"
   ]
  },
  {
   "cell_type": "code",
   "execution_count": 18,
   "id": "italian-strain",
   "metadata": {},
   "outputs": [
    {
     "name": "stdout",
     "output_type": "stream",
     "text": [
      "2\n",
      "1\n"
     ]
    }
   ],
   "source": [
    "lista2.excluir_inicio()\n",
    "lista2.excluir_inicio()\n",
    "lista2.mostrar()"
   ]
  },
  {
   "cell_type": "code",
   "execution_count": 19,
   "id": "infrared-abuse",
   "metadata": {},
   "outputs": [
    {
     "name": "stdout",
     "output_type": "stream",
     "text": [
      "1\n"
     ]
    }
   ],
   "source": [
    "lista2.excluir_inicio()\n",
    "lista2.mostrar()"
   ]
  },
  {
   "cell_type": "code",
   "execution_count": 20,
   "id": "north-source",
   "metadata": {},
   "outputs": [
    {
     "data": {
      "text/plain": [
       "<__main__.No at 0x26d7a673d30>"
      ]
     },
     "execution_count": 20,
     "metadata": {},
     "output_type": "execute_result"
    }
   ],
   "source": [
    "lista2.excluir_inicio()"
   ]
  },
  {
   "cell_type": "code",
   "execution_count": 21,
   "id": "blessed-crowd",
   "metadata": {},
   "outputs": [
    {
     "name": "stdout",
     "output_type": "stream",
     "text": [
      "A lista esta vazia\n"
     ]
    }
   ],
   "source": [
    "lista2.excluir_inicio()"
   ]
  },
  {
   "cell_type": "code",
   "execution_count": 22,
   "id": "adopted-young",
   "metadata": {},
   "outputs": [
    {
     "name": "stdout",
     "output_type": "stream",
     "text": [
      "A lista esta vazia\n"
     ]
    }
   ],
   "source": [
    "lista2.mostrar()"
   ]
  },
  {
   "cell_type": "code",
   "execution_count": 23,
   "id": "metric-universe",
   "metadata": {},
   "outputs": [
    {
     "name": "stdout",
     "output_type": "stream",
     "text": [
      "5\n",
      "4\n",
      "3\n",
      "2\n",
      "1\n"
     ]
    }
   ],
   "source": [
    "lista3 = ListaEncadeada()\n",
    "lista3.insere_inicio(1)\n",
    "lista3.insere_inicio(2)\n",
    "lista3.insere_inicio(3)\n",
    "lista3.insere_inicio(4)\n",
    "lista3.insere_inicio(5)\n",
    "lista3.mostrar()"
   ]
  },
  {
   "cell_type": "code",
   "execution_count": 24,
   "id": "veterinary-amazon",
   "metadata": {},
   "outputs": [],
   "source": [
    "pesquisa = lista3.pesquisa(10)"
   ]
  },
  {
   "cell_type": "code",
   "execution_count": 25,
   "id": "applicable-quebec",
   "metadata": {},
   "outputs": [
    {
     "name": "stdout",
     "output_type": "stream",
     "text": [
      "Nao encontrado\n"
     ]
    }
   ],
   "source": [
    "if pesquisa != None:\n",
    "    print('Encontrado: ', pesquisa.valor)\n",
    "else:\n",
    "    print('Nao encontrado')"
   ]
  },
  {
   "cell_type": "code",
   "execution_count": 26,
   "id": "pharmaceutical-gambling",
   "metadata": {},
   "outputs": [
    {
     "name": "stdout",
     "output_type": "stream",
     "text": [
      "5\n",
      "4\n",
      "3\n",
      "2\n",
      "1\n"
     ]
    }
   ],
   "source": [
    "lista4 = ListaEncadeada()\n",
    "lista4.insere_inicio(1)\n",
    "lista4.insere_inicio(2)\n",
    "lista4.insere_inicio(3)\n",
    "lista4.insere_inicio(4)\n",
    "lista4.insere_inicio(5)\n",
    "lista4.mostrar()"
   ]
  },
  {
   "cell_type": "code",
   "execution_count": 27,
   "id": "satellite-consciousness",
   "metadata": {},
   "outputs": [
    {
     "name": "stdout",
     "output_type": "stream",
     "text": [
      "5\n",
      "4\n",
      "2\n",
      "1\n"
     ]
    }
   ],
   "source": [
    "lista4.excluir_posicao(3)\n",
    "lista4.mostrar()"
   ]
  },
  {
   "cell_type": "code",
   "execution_count": 28,
   "id": "parallel-plasma",
   "metadata": {},
   "outputs": [
    {
     "name": "stdout",
     "output_type": "stream",
     "text": [
      "5\n",
      "4\n",
      "2\n"
     ]
    }
   ],
   "source": [
    "lista4.excluir_posicao(1)\n",
    "lista4.mostrar()"
   ]
  },
  {
   "cell_type": "code",
   "execution_count": 29,
   "id": "great-parade",
   "metadata": {},
   "outputs": [
    {
     "name": "stdout",
     "output_type": "stream",
     "text": [
      "4\n",
      "2\n"
     ]
    }
   ],
   "source": [
    "lista4.excluir_posicao(5)\n",
    "lista4.mostrar()"
   ]
  },
  {
   "cell_type": "markdown",
   "id": "sonic-rubber",
   "metadata": {},
   "source": [
    "# Listas encadeadas com extremidades duplas"
   ]
  },
  {
   "cell_type": "markdown",
   "id": "superior-advance",
   "metadata": {},
   "source": [
    "A \"cabeça\" guarda referência do primeiro e do último nó da lista.\n",
    "\n",
    "Permite inserir novos nós tanto no início quanto no final da lista."
   ]
  },
  {
   "cell_type": "code",
   "execution_count": 30,
   "id": "hidden-developer",
   "metadata": {},
   "outputs": [],
   "source": [
    "class No2: \n",
    "  \n",
    "    def __init__(self, valor):\n",
    "        self.valor = valor\n",
    "        self.proximo = None\n",
    "\n",
    "    def mostra_no(self):\n",
    "        print(self.valor)"
   ]
  },
  {
   "cell_type": "code",
   "execution_count": 31,
   "id": "black-bulletin",
   "metadata": {},
   "outputs": [],
   "source": [
    "class ListaEncadeadaExtremidadeDupla:\n",
    "\n",
    "    def __init__(self):\n",
    "        # indica a cabeca/primeiro elemento da lista\n",
    "        self.primeiro = None\n",
    "        # indica o final da lista\n",
    "        self.ultimo = None\n",
    "  \n",
    "    def __lista_vazia(self):\n",
    "        return self.primeiro == None\n",
    "\n",
    "    def insere_inicio(self, valor):\n",
    "        \n",
    "        novo = No2(valor)\n",
    "        \n",
    "        # se a lista estiver vazia, o indicador do ultimo elemento vai apontar pro novo 'no'\n",
    "        if self.__lista_vazia():\n",
    "            self.ultimo = novo\n",
    "        \n",
    "        # o campo do 'no' que aponta pro proximo elemento vai apontar pro proximo elemento da lista\n",
    "        # (que era anteriormente o primeiro), ja que estamos inserindo um novo 'no' no inicio\n",
    "        novo.proximo = self.primeiro\n",
    "        # a cabeca da lista vai apontar pro novo 'no'\n",
    "        self.primeiro = novo\n",
    "\n",
    "    def insere_final(self, valor):\n",
    "        \n",
    "        novo = No2(valor)\n",
    "\n",
    "        # se a lista estiver vazia, o indicador do primeiro elemento vai apontar pro novo 'no'\n",
    "        if self.__lista_vazia():\n",
    "            self.primeiro = novo\n",
    "        # se a lista nao estiver vazia, o antigo ultimo elemento vai apontar pro novo 'no'\n",
    "        else:\n",
    "            self.ultimo.proximo = novo\n",
    "        \n",
    "        # o indicador do ultimo elemento vai apontar pro novo 'no'\n",
    "        self.ultimo = novo\n",
    "\n",
    "    def excluir_inicio(self):\n",
    "        \n",
    "        if self.__lista_vazia():\n",
    "            print('A lista esta vazia')\n",
    "            return\n",
    "\n",
    "        # guardando o elemento a ser excluido\n",
    "        temp = self.primeiro\n",
    "        \n",
    "        # se so tiver um elemento na lista e vamos apaga-lo, entao nao teremos um ultimo elemento tambem\n",
    "        if self.primeiro.proximo == None:\n",
    "            self.ultimo = None\n",
    "        \n",
    "        # o primeiro elemento agora vai ser o segundo\n",
    "        self.primeiro = self.primeiro.proximo\n",
    "        \n",
    "        # retornando o elemento excluido\n",
    "        return temp\n",
    "\n",
    "    def mostrar(self):\n",
    "        \n",
    "        if self.__lista_vazia():\n",
    "            print('A lista esta vazia')\n",
    "            return\n",
    "        \n",
    "        atual = self.primeiro\n",
    "        \n",
    "        while atual != None:\n",
    "            atual.mostra_no()\n",
    "            atual = atual.proximo   "
   ]
  },
  {
   "cell_type": "code",
   "execution_count": 32,
   "id": "indonesian-alias",
   "metadata": {},
   "outputs": [],
   "source": [
    "lista5 = ListaEncadeadaExtremidadeDupla()\n",
    "lista5.insere_inicio(1)"
   ]
  },
  {
   "cell_type": "code",
   "execution_count": 33,
   "id": "august-microphone",
   "metadata": {},
   "outputs": [
    {
     "data": {
      "text/plain": [
       "(<__main__.No2 at 0x26d7a64ceb0>, <__main__.No2 at 0x26d7a64ceb0>)"
      ]
     },
     "execution_count": 33,
     "metadata": {},
     "output_type": "execute_result"
    }
   ],
   "source": [
    "lista5.primeiro, lista5.ultimo"
   ]
  },
  {
   "cell_type": "code",
   "execution_count": 34,
   "id": "referenced-apartment",
   "metadata": {},
   "outputs": [
    {
     "name": "stdout",
     "output_type": "stream",
     "text": [
      "5\n",
      "4\n",
      "3\n",
      "2\n",
      "1\n"
     ]
    }
   ],
   "source": [
    "lista5.insere_inicio(2)\n",
    "lista5.insere_inicio(3)\n",
    "lista5.insere_inicio(4)\n",
    "lista5.insere_inicio(5)\n",
    "\n",
    "lista5.mostrar()"
   ]
  },
  {
   "cell_type": "code",
   "execution_count": 35,
   "id": "comparable-leader",
   "metadata": {},
   "outputs": [
    {
     "data": {
      "text/plain": [
       "(<__main__.No2 at 0x26d7a6419a0>, <__main__.No2 at 0x26d7a64ceb0>)"
      ]
     },
     "execution_count": 35,
     "metadata": {},
     "output_type": "execute_result"
    }
   ],
   "source": [
    "lista5.primeiro, lista5.ultimo"
   ]
  },
  {
   "cell_type": "code",
   "execution_count": 36,
   "id": "polish-washer",
   "metadata": {},
   "outputs": [
    {
     "data": {
      "text/plain": [
       "(<__main__.No2 at 0x26d7a677a60>, <__main__.No2 at 0x26d7a677a60>)"
      ]
     },
     "execution_count": 36,
     "metadata": {},
     "output_type": "execute_result"
    }
   ],
   "source": [
    "lista6 = ListaEncadeadaExtremidadeDupla()\n",
    "\n",
    "lista6.insere_final(1)\n",
    "\n",
    "lista6.primeiro, lista6.ultimo"
   ]
  },
  {
   "cell_type": "code",
   "execution_count": 37,
   "id": "isolated-launch",
   "metadata": {},
   "outputs": [
    {
     "name": "stdout",
     "output_type": "stream",
     "text": [
      "1\n",
      "2\n",
      "3\n"
     ]
    }
   ],
   "source": [
    "lista6.insere_final(2)\n",
    "lista6.insere_final(3)\n",
    "\n",
    "lista6.mostrar()"
   ]
  },
  {
   "cell_type": "code",
   "execution_count": 38,
   "id": "binary-writing",
   "metadata": {},
   "outputs": [
    {
     "name": "stdout",
     "output_type": "stream",
     "text": [
      "0\n",
      "1\n",
      "2\n",
      "3\n",
      "4\n"
     ]
    }
   ],
   "source": [
    "lista6.insere_inicio(0)\n",
    "lista6.insere_final(4)\n",
    "lista6.mostrar()"
   ]
  },
  {
   "cell_type": "code",
   "execution_count": 39,
   "id": "brown-purple",
   "metadata": {},
   "outputs": [
    {
     "name": "stdout",
     "output_type": "stream",
     "text": [
      "1\n",
      "3\n"
     ]
    }
   ],
   "source": [
    "lista7 = ListaEncadeadaExtremidadeDupla()\n",
    "\n",
    "lista7.insere_inicio(1)\n",
    "lista7.insere_final(3)\n",
    "\n",
    "lista7.mostrar()"
   ]
  },
  {
   "cell_type": "code",
   "execution_count": 40,
   "id": "packed-logan",
   "metadata": {},
   "outputs": [
    {
     "name": "stdout",
     "output_type": "stream",
     "text": [
      "3\n"
     ]
    }
   ],
   "source": [
    "lista7.excluir_inicio()\n",
    "lista7.mostrar()"
   ]
  },
  {
   "cell_type": "code",
   "execution_count": 41,
   "id": "sound-being",
   "metadata": {},
   "outputs": [
    {
     "name": "stdout",
     "output_type": "stream",
     "text": [
      "A lista esta vazia\n",
      "A lista esta vazia\n"
     ]
    }
   ],
   "source": [
    "lista7.excluir_inicio()\n",
    "lista7.excluir_inicio()\n",
    "\n",
    "lista7.mostrar()"
   ]
  },
  {
   "cell_type": "markdown",
   "id": "industrial-consciousness",
   "metadata": {},
   "source": [
    "# Listas duplamente encadeadas"
   ]
  },
  {
   "cell_type": "markdown",
   "id": "narrative-monitor",
   "metadata": {},
   "source": [
    "Permite percorrer a lista para frente e para trás.\n",
    "\n",
    "Cada nó tem duas referências, uma para o próximo nó e outra para o nó anterior."
   ]
  },
  {
   "cell_type": "code",
   "execution_count": 42,
   "id": "saved-panama",
   "metadata": {},
   "outputs": [],
   "source": [
    "class No3: \n",
    "  \n",
    "    def __init__(self, valor):\n",
    "        self.valor = valor\n",
    "        self.proximo = None\n",
    "        self.anterior = None\n",
    "\n",
    "    def mostra_no(self):\n",
    "        print(self.valor)"
   ]
  },
  {
   "cell_type": "code",
   "execution_count": 43,
   "id": "declared-teddy",
   "metadata": {},
   "outputs": [],
   "source": [
    "class ListaDuplamenteEncadeada:\n",
    "\n",
    "    def __init__(self):\n",
    "        self.primeiro = None\n",
    "        self.ultimo = None\n",
    "\n",
    "    def __lista_vazia(self):\n",
    "        return self.primeiro == None\n",
    "  \n",
    "    def insere_inicio(self, valor):\n",
    "        \n",
    "        novo = No3(valor)\n",
    "        \n",
    "        # se a lista estiver vazia, o indicador do ultimo elemento vai apontar pro novo 'no'\n",
    "        if self.__lista_vazia():\n",
    "            self.ultimo = novo\n",
    "        # se nao, o antigo primeiro elemento vai ter a referencia 'anterior' apontando para o novo 'no'\n",
    "        else:\n",
    "            self.primeiro.anterior = novo\n",
    "            \n",
    "        # a referencia do proximo elemento do novo 'no' vai apontar para o antigo primeiro elemento\n",
    "        novo.proximo = self.primeiro \n",
    "        # a cabeca da lista vai apontar pro novo 'no'\n",
    "        self.primeiro = novo\n",
    "\n",
    "    def insere_final(self, valor):\n",
    "        \n",
    "        novo = No3(valor)\n",
    "        \n",
    "        # se a lista estiver vazia, o indicador do primeiro elemento vai apontar pro novo 'no'\n",
    "        if self.__lista_vazia():\n",
    "            self.primeiro = novo\n",
    "        # se nao, o antigo ultimo elemento vai ter a referencia 'proximo' apontando para o novo 'no'\n",
    "        else:\n",
    "            self.ultimo.proximo = novo\n",
    "            # a referencia 'anterior' do novo 'no' vai apontar para o antigo ultimo elemento\n",
    "            novo.anterior = self.ultimo\n",
    "            \n",
    "        # o final da lista vai apontar pro novo 'no'\n",
    "        self.ultimo = novo\n",
    "\n",
    "    def mostrar_frente(self):\n",
    "        \n",
    "        atual = self.primeiro\n",
    "        \n",
    "        while atual != None:\n",
    "            atual.mostra_no()\n",
    "            atual = atual.proximo\n",
    "\n",
    "    def mostrar_tras(self):\n",
    "        \n",
    "        atual = self.ultimo\n",
    "        \n",
    "        while atual != None:\n",
    "            atual.mostra_no()\n",
    "            atual = atual.anterior\n",
    "            \n",
    "    def excluir_inicio(self):\n",
    "        \n",
    "        # guardando o elemento a ser excluido\n",
    "        temp = self.primeiro\n",
    "        \n",
    "        # se so tiver um elemento na lista e vamos apaga-lo, entao nao teremos nenhum elemento\n",
    "        if self.primeiro.proximo == None:\n",
    "            self.ultimo = None\n",
    "        # se nao estiver apagando o ultimo elemento da lista\n",
    "        else:\n",
    "            # a referencia anterior do segundo item vai apontar para None\n",
    "            # tornando ele o primeiro item da lista\n",
    "            self.primeiro.proximo.anterior = None\n",
    "        \n",
    "        # o primeiro elemento agora vai ser o segundo \n",
    "        self.primeiro = self.primeiro.proximo\n",
    "        \n",
    "        # retornando o elemento excluido\n",
    "        return temp\n",
    "\n",
    "    def excluir_final(self):\n",
    "        \n",
    "        # guardando o elemento a ser excluido\n",
    "        temp = self.ultimo\n",
    "        \n",
    "        # se so tiver um elemento na lista e vamos apaga-lo, entao nao teremos nenhum elemento\n",
    "        if self.primeiro.proximo == None:\n",
    "            self.primeiro = None\n",
    "        else:\n",
    "            # a referencia anterior do penultimo item vai apontar para None\n",
    "            # tornando ele o ultimo item da lista\n",
    "            self.ultimo.anterior.proximo = None\n",
    "        \n",
    "        # o ultimo elemento agora vai ser o penultimo \n",
    "        self.ultimo = self.ultimo.anterior\n",
    "        \n",
    "        # retornando o elemento excluido\n",
    "        return temp\n",
    "\n",
    "    def excluir_posicao(self, valor):\n",
    "        \n",
    "        atual = self.primeiro\n",
    "        \n",
    "        # percorrendo a linearmente a lista ate achar o valor a ser excluido\n",
    "        while atual.valor != valor:\n",
    "            atual = atual.proximo\n",
    "            # se o valor nao for encontrado, retorna None\n",
    "            if atual == None:\n",
    "                return None\n",
    "        \n",
    "        # se o elemento a ser excluido for o primeiro\n",
    "        if atual == self.primeiro:\n",
    "            # a cabeca da lista vai apontar pro segundo elemento\n",
    "            self.primeiro = atual.proximo\n",
    "        else:\n",
    "            # o elemento anterior ao excluido vai ter a referencia 'proximo' apontando\n",
    "            # pro elemento posterior ao excluido\n",
    "            atual.anterior.proximo = atual.proximo\n",
    "\n",
    "        # se o elemento a ser excluido for o ultimo\n",
    "        if atual == self.ultimo:\n",
    "            # o final da lista vai apontar pro penultimo elemento\n",
    "            self.ultimo = atual.anterior\n",
    "        else:\n",
    "            # o elemento posterior ao excluido vai ter a referencia 'anterior' apontando\n",
    "            # pro elemento anterior ao excluido\n",
    "            atual.proximo.anterior = atual.anterior\n",
    "            \n",
    "        # retornando o elemento excluido\n",
    "        return atual"
   ]
  },
  {
   "cell_type": "code",
   "execution_count": 44,
   "id": "elect-shopper",
   "metadata": {},
   "outputs": [
    {
     "name": "stdout",
     "output_type": "stream",
     "text": [
      "5\n",
      "4\n",
      "3\n",
      "2\n",
      "1\n"
     ]
    }
   ],
   "source": [
    "lista8 = ListaDuplamenteEncadeada()\n",
    "\n",
    "lista8.insere_inicio(1)\n",
    "lista8.insere_inicio(2)\n",
    "lista8.insere_inicio(3)\n",
    "lista8.insere_inicio(4)\n",
    "lista8.insere_inicio(5)\n",
    "\n",
    "lista8.mostrar_frente()"
   ]
  },
  {
   "cell_type": "code",
   "execution_count": 45,
   "id": "hydraulic-plumbing",
   "metadata": {},
   "outputs": [
    {
     "data": {
      "text/plain": [
       "(<__main__.No3 at 0x26d7a680070>, <__main__.No3 at 0x26d7a680220>)"
      ]
     },
     "execution_count": 45,
     "metadata": {},
     "output_type": "execute_result"
    }
   ],
   "source": [
    "lista8.primeiro, lista8.ultimo"
   ]
  },
  {
   "cell_type": "code",
   "execution_count": 46,
   "id": "selective-howard",
   "metadata": {},
   "outputs": [
    {
     "data": {
      "text/plain": [
       "(5, 1)"
      ]
     },
     "execution_count": 46,
     "metadata": {},
     "output_type": "execute_result"
    }
   ],
   "source": [
    "lista8.primeiro.valor, lista8.ultimo.valor"
   ]
  },
  {
   "cell_type": "code",
   "execution_count": 47,
   "id": "outdoor-slovenia",
   "metadata": {},
   "outputs": [
    {
     "name": "stdout",
     "output_type": "stream",
     "text": [
      "1\n",
      "2\n",
      "3\n",
      "4\n",
      "5\n"
     ]
    }
   ],
   "source": [
    "lista8.mostrar_tras()"
   ]
  },
  {
   "cell_type": "code",
   "execution_count": 48,
   "id": "statutory-algebra",
   "metadata": {},
   "outputs": [
    {
     "name": "stdout",
     "output_type": "stream",
     "text": [
      "2\n",
      "1\n",
      "3\n",
      "4\n"
     ]
    }
   ],
   "source": [
    "lista9 = ListaDuplamenteEncadeada()\n",
    "\n",
    "lista9.insere_inicio(1)\n",
    "lista9.insere_inicio(2)\n",
    "lista9.insere_final(3)\n",
    "lista9.insere_final(4)\n",
    "\n",
    "lista9.mostrar_frente()"
   ]
  },
  {
   "cell_type": "code",
   "execution_count": 49,
   "id": "composite-ethnic",
   "metadata": {},
   "outputs": [
    {
     "name": "stdout",
     "output_type": "stream",
     "text": [
      "4\n",
      "3\n",
      "1\n",
      "2\n"
     ]
    }
   ],
   "source": [
    "lista9.mostrar_tras()"
   ]
  },
  {
   "cell_type": "code",
   "execution_count": 50,
   "id": "modern-charge",
   "metadata": {},
   "outputs": [
    {
     "name": "stdout",
     "output_type": "stream",
     "text": [
      "5\n",
      "4\n",
      "3\n",
      "2\n",
      "1\n"
     ]
    }
   ],
   "source": [
    "lista10 = ListaDuplamenteEncadeada()\n",
    "\n",
    "lista10.insere_inicio(1)\n",
    "lista10.insere_inicio(2)\n",
    "lista10.insere_inicio(3)\n",
    "lista10.insere_inicio(4)\n",
    "lista10.insere_inicio(5)\n",
    "\n",
    "lista10.mostrar_frente()"
   ]
  },
  {
   "cell_type": "code",
   "execution_count": 51,
   "id": "genuine-michael",
   "metadata": {},
   "outputs": [
    {
     "name": "stdout",
     "output_type": "stream",
     "text": [
      "4\n",
      "3\n",
      "2\n",
      "1\n"
     ]
    }
   ],
   "source": [
    "lista10.excluir_inicio()\n",
    "lista10.mostrar_frente()"
   ]
  },
  {
   "cell_type": "code",
   "execution_count": 52,
   "id": "clear-container",
   "metadata": {},
   "outputs": [
    {
     "name": "stdout",
     "output_type": "stream",
     "text": [
      "4\n",
      "3\n",
      "2\n"
     ]
    }
   ],
   "source": [
    "lista10.excluir_final()\n",
    "lista10.mostrar_frente()"
   ]
  },
  {
   "cell_type": "code",
   "execution_count": 53,
   "id": "aging-lemon",
   "metadata": {},
   "outputs": [
    {
     "name": "stdout",
     "output_type": "stream",
     "text": [
      "2\n",
      "3\n",
      "4\n"
     ]
    }
   ],
   "source": [
    "lista10.mostrar_tras()"
   ]
  },
  {
   "cell_type": "code",
   "execution_count": 54,
   "id": "wired-protest",
   "metadata": {},
   "outputs": [
    {
     "name": "stdout",
     "output_type": "stream",
     "text": [
      "5\n",
      "4\n",
      "3\n",
      "2\n",
      "1\n"
     ]
    }
   ],
   "source": [
    "lista11 = ListaDuplamenteEncadeada()\n",
    "\n",
    "lista11.insere_inicio(1)\n",
    "lista11.insere_inicio(2)\n",
    "lista11.insere_inicio(3)\n",
    "lista11.insere_inicio(4)\n",
    "lista11.insere_inicio(5)\n",
    "\n",
    "lista11.mostrar_frente()"
   ]
  },
  {
   "cell_type": "code",
   "execution_count": 55,
   "id": "forty-cotton",
   "metadata": {},
   "outputs": [
    {
     "name": "stdout",
     "output_type": "stream",
     "text": [
      "5\n",
      "4\n",
      "2\n",
      "1\n",
      "\n",
      "1\n",
      "2\n",
      "4\n",
      "5\n"
     ]
    }
   ],
   "source": [
    "lista11.excluir_posicao(3)\n",
    "\n",
    "lista11.mostrar_frente()\n",
    "print()\n",
    "lista11.mostrar_tras()"
   ]
  },
  {
   "cell_type": "code",
   "execution_count": 56,
   "id": "damaged-zealand",
   "metadata": {},
   "outputs": [
    {
     "name": "stdout",
     "output_type": "stream",
     "text": [
      "4\n",
      "2\n",
      "\n",
      "2\n",
      "4\n"
     ]
    }
   ],
   "source": [
    "lista11.excluir_posicao(5)\n",
    "lista11.excluir_posicao(1)\n",
    "\n",
    "lista11.mostrar_frente()\n",
    "print()\n",
    "lista11.mostrar_tras()"
   ]
  }
 ],
 "metadata": {
  "kernelspec": {
   "display_name": "Python 3",
   "language": "python",
   "name": "python3"
  },
  "language_info": {
   "codemirror_mode": {
    "name": "ipython",
    "version": 3
   },
   "file_extension": ".py",
   "mimetype": "text/x-python",
   "name": "python",
   "nbconvert_exporter": "python",
   "pygments_lexer": "ipython3",
   "version": "3.8.6"
  }
 },
 "nbformat": 4,
 "nbformat_minor": 5
}
